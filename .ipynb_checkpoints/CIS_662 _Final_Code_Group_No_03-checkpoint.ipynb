{
 "cells": [
  {
   "cell_type": "code",
   "execution_count": 1,
   "id": "4d99ddbf",
   "metadata": {},
   "outputs": [],
   "source": [
    "import pandas as pd\n",
    "import matplotlib.pyplot as plt\n",
    "import seaborn as sns\n",
    "import numpy as np\n",
    "import scipy\n",
    "import sklearn\n",
    "import os\n",
    "from sklearn.model_selection import train_test_split"
   ]
  },
  {
   "cell_type": "code",
   "execution_count": 2,
   "id": "21e65f1e",
   "metadata": {},
   "outputs": [],
   "source": [
    "def convert_to_categorical(time_str):\n",
    "    hour = int(time_str.split(':')[0])\n",
    "    \n",
    "    if 0 <= hour < 3:\n",
    "        return 'Late Night'\n",
    "    elif 3 <= hour < 6:\n",
    "        return 'Early Morning'\n",
    "    elif 6 <= hour < 9:\n",
    "        return 'Morning'\n",
    "    elif 9 <= hour < 12:\n",
    "        return 'Late Morning'\n",
    "    elif 12 <= hour < 15:\n",
    "        return 'Noon'\n",
    "    elif 15 <= hour < 18:\n",
    "        return 'Afternoon'\n",
    "    elif 18 <= hour < 21:\n",
    "        return 'Evening'\n",
    "    else:\n",
    "        return 'Night'"
   ]
  },
  {
   "cell_type": "code",
   "execution_count": 3,
   "id": "657bd6d0",
   "metadata": {},
   "outputs": [],
   "source": [
    "data = pd.read_csv(\"INITIAL_PROCESSED_DATA.csv\")"
   ]
  },
  {
   "cell_type": "code",
   "execution_count": 4,
   "id": "02a436c4",
   "metadata": {},
   "outputs": [
    {
     "data": {
      "text/html": [
       "<div>\n",
       "<style scoped>\n",
       "    .dataframe tbody tr th:only-of-type {\n",
       "        vertical-align: middle;\n",
       "    }\n",
       "\n",
       "    .dataframe tbody tr th {\n",
       "        vertical-align: top;\n",
       "    }\n",
       "\n",
       "    .dataframe thead th {\n",
       "        text-align: right;\n",
       "    }\n",
       "</style>\n",
       "<table border=\"1\" class=\"dataframe\">\n",
       "  <thead>\n",
       "    <tr style=\"text-align: right;\">\n",
       "      <th></th>\n",
       "      <th>Carrier Code</th>\n",
       "      <th>Date (MM/DD/YYYY)</th>\n",
       "      <th>Flight Number</th>\n",
       "      <th>Tail Number</th>\n",
       "      <th>Origin Airport</th>\n",
       "      <th>Scheduled Arrival Time</th>\n",
       "      <th>Scheduled Elapsed Time (Minutes)</th>\n",
       "      <th>Arrival Delay (Minutes)</th>\n",
       "      <th>FLIGHT_STATUS</th>\n",
       "      <th>month</th>\n",
       "      <th>day</th>\n",
       "      <th>season</th>\n",
       "      <th>WeekDay</th>\n",
       "    </tr>\n",
       "  </thead>\n",
       "  <tbody>\n",
       "    <tr>\n",
       "      <th>0</th>\n",
       "      <td>B6</td>\n",
       "      <td>2010-01-01</td>\n",
       "      <td>22</td>\n",
       "      <td>N608JB</td>\n",
       "      <td>JFK</td>\n",
       "      <td>00:01</td>\n",
       "      <td>76</td>\n",
       "      <td>160</td>\n",
       "      <td>LATE</td>\n",
       "      <td>1</td>\n",
       "      <td>1</td>\n",
       "      <td>winter</td>\n",
       "      <td>Friday</td>\n",
       "    </tr>\n",
       "    <tr>\n",
       "      <th>1</th>\n",
       "      <td>B6</td>\n",
       "      <td>2010-01-01</td>\n",
       "      <td>44</td>\n",
       "      <td>N586JB</td>\n",
       "      <td>JFK</td>\n",
       "      <td>08:55</td>\n",
       "      <td>75</td>\n",
       "      <td>16</td>\n",
       "      <td>LATE</td>\n",
       "      <td>1</td>\n",
       "      <td>1</td>\n",
       "      <td>winter</td>\n",
       "      <td>Friday</td>\n",
       "    </tr>\n",
       "    <tr>\n",
       "      <th>2</th>\n",
       "      <td>MQ</td>\n",
       "      <td>2010-01-01</td>\n",
       "      <td>4094</td>\n",
       "      <td>N610MQ</td>\n",
       "      <td>ORD</td>\n",
       "      <td>11:20</td>\n",
       "      <td>100</td>\n",
       "      <td>4</td>\n",
       "      <td>ONTIME</td>\n",
       "      <td>1</td>\n",
       "      <td>1</td>\n",
       "      <td>winter</td>\n",
       "      <td>Friday</td>\n",
       "    </tr>\n",
       "    <tr>\n",
       "      <th>3</th>\n",
       "      <td>9E</td>\n",
       "      <td>2010-01-01</td>\n",
       "      <td>3818</td>\n",
       "      <td>89289E</td>\n",
       "      <td>DTW</td>\n",
       "      <td>11:44</td>\n",
       "      <td>84</td>\n",
       "      <td>22</td>\n",
       "      <td>LATE</td>\n",
       "      <td>1</td>\n",
       "      <td>1</td>\n",
       "      <td>winter</td>\n",
       "      <td>Friday</td>\n",
       "    </tr>\n",
       "    <tr>\n",
       "      <th>4</th>\n",
       "      <td>B6</td>\n",
       "      <td>2010-01-01</td>\n",
       "      <td>42</td>\n",
       "      <td>N586JB</td>\n",
       "      <td>JFK</td>\n",
       "      <td>11:52</td>\n",
       "      <td>71</td>\n",
       "      <td>73</td>\n",
       "      <td>LATE</td>\n",
       "      <td>1</td>\n",
       "      <td>1</td>\n",
       "      <td>winter</td>\n",
       "      <td>Friday</td>\n",
       "    </tr>\n",
       "  </tbody>\n",
       "</table>\n",
       "</div>"
      ],
      "text/plain": [
       "  Carrier Code Date (MM/DD/YYYY)  Flight Number Tail Number Origin Airport  \\\n",
       "0           B6        2010-01-01             22      N608JB            JFK   \n",
       "1           B6        2010-01-01             44      N586JB            JFK   \n",
       "2           MQ        2010-01-01           4094      N610MQ            ORD   \n",
       "3           9E        2010-01-01           3818      89289E            DTW   \n",
       "4           B6        2010-01-01             42      N586JB            JFK   \n",
       "\n",
       "  Scheduled Arrival Time  Scheduled Elapsed Time (Minutes)  \\\n",
       "0                  00:01                                76   \n",
       "1                  08:55                                75   \n",
       "2                  11:20                               100   \n",
       "3                  11:44                                84   \n",
       "4                  11:52                                71   \n",
       "\n",
       "   Arrival Delay (Minutes) FLIGHT_STATUS  month  day  season WeekDay  \n",
       "0                      160          LATE      1    1  winter  Friday  \n",
       "1                       16          LATE      1    1  winter  Friday  \n",
       "2                        4        ONTIME      1    1  winter  Friday  \n",
       "3                       22          LATE      1    1  winter  Friday  \n",
       "4                       73          LATE      1    1  winter  Friday  "
      ]
     },
     "execution_count": 4,
     "metadata": {},
     "output_type": "execute_result"
    }
   ],
   "source": [
    "data.head()"
   ]
  },
  {
   "cell_type": "code",
   "execution_count": 5,
   "id": "9e7d7ef5",
   "metadata": {},
   "outputs": [],
   "source": [
    "data['SCHED_ARRV_TIME_CAT'] = data['Scheduled Arrival Time'].apply(convert_to_categorical)"
   ]
  },
  {
   "cell_type": "code",
   "execution_count": 6,
   "id": "c4300550",
   "metadata": {},
   "outputs": [
    {
     "data": {
      "text/html": [
       "<div>\n",
       "<style scoped>\n",
       "    .dataframe tbody tr th:only-of-type {\n",
       "        vertical-align: middle;\n",
       "    }\n",
       "\n",
       "    .dataframe tbody tr th {\n",
       "        vertical-align: top;\n",
       "    }\n",
       "\n",
       "    .dataframe thead th {\n",
       "        text-align: right;\n",
       "    }\n",
       "</style>\n",
       "<table border=\"1\" class=\"dataframe\">\n",
       "  <thead>\n",
       "    <tr style=\"text-align: right;\">\n",
       "      <th></th>\n",
       "      <th>Carrier Code</th>\n",
       "      <th>Date (MM/DD/YYYY)</th>\n",
       "      <th>Flight Number</th>\n",
       "      <th>Tail Number</th>\n",
       "      <th>Origin Airport</th>\n",
       "      <th>Scheduled Arrival Time</th>\n",
       "      <th>Scheduled Elapsed Time (Minutes)</th>\n",
       "      <th>Arrival Delay (Minutes)</th>\n",
       "      <th>FLIGHT_STATUS</th>\n",
       "      <th>month</th>\n",
       "      <th>day</th>\n",
       "      <th>season</th>\n",
       "      <th>WeekDay</th>\n",
       "      <th>SCHED_ARRV_TIME_CAT</th>\n",
       "    </tr>\n",
       "  </thead>\n",
       "  <tbody>\n",
       "    <tr>\n",
       "      <th>0</th>\n",
       "      <td>B6</td>\n",
       "      <td>2010-01-01</td>\n",
       "      <td>22</td>\n",
       "      <td>N608JB</td>\n",
       "      <td>JFK</td>\n",
       "      <td>00:01</td>\n",
       "      <td>76</td>\n",
       "      <td>160</td>\n",
       "      <td>LATE</td>\n",
       "      <td>1</td>\n",
       "      <td>1</td>\n",
       "      <td>winter</td>\n",
       "      <td>Friday</td>\n",
       "      <td>Late Night</td>\n",
       "    </tr>\n",
       "    <tr>\n",
       "      <th>1</th>\n",
       "      <td>B6</td>\n",
       "      <td>2010-01-01</td>\n",
       "      <td>44</td>\n",
       "      <td>N586JB</td>\n",
       "      <td>JFK</td>\n",
       "      <td>08:55</td>\n",
       "      <td>75</td>\n",
       "      <td>16</td>\n",
       "      <td>LATE</td>\n",
       "      <td>1</td>\n",
       "      <td>1</td>\n",
       "      <td>winter</td>\n",
       "      <td>Friday</td>\n",
       "      <td>Morning</td>\n",
       "    </tr>\n",
       "    <tr>\n",
       "      <th>2</th>\n",
       "      <td>MQ</td>\n",
       "      <td>2010-01-01</td>\n",
       "      <td>4094</td>\n",
       "      <td>N610MQ</td>\n",
       "      <td>ORD</td>\n",
       "      <td>11:20</td>\n",
       "      <td>100</td>\n",
       "      <td>4</td>\n",
       "      <td>ONTIME</td>\n",
       "      <td>1</td>\n",
       "      <td>1</td>\n",
       "      <td>winter</td>\n",
       "      <td>Friday</td>\n",
       "      <td>Late Morning</td>\n",
       "    </tr>\n",
       "    <tr>\n",
       "      <th>3</th>\n",
       "      <td>9E</td>\n",
       "      <td>2010-01-01</td>\n",
       "      <td>3818</td>\n",
       "      <td>89289E</td>\n",
       "      <td>DTW</td>\n",
       "      <td>11:44</td>\n",
       "      <td>84</td>\n",
       "      <td>22</td>\n",
       "      <td>LATE</td>\n",
       "      <td>1</td>\n",
       "      <td>1</td>\n",
       "      <td>winter</td>\n",
       "      <td>Friday</td>\n",
       "      <td>Late Morning</td>\n",
       "    </tr>\n",
       "    <tr>\n",
       "      <th>4</th>\n",
       "      <td>B6</td>\n",
       "      <td>2010-01-01</td>\n",
       "      <td>42</td>\n",
       "      <td>N586JB</td>\n",
       "      <td>JFK</td>\n",
       "      <td>11:52</td>\n",
       "      <td>71</td>\n",
       "      <td>73</td>\n",
       "      <td>LATE</td>\n",
       "      <td>1</td>\n",
       "      <td>1</td>\n",
       "      <td>winter</td>\n",
       "      <td>Friday</td>\n",
       "      <td>Late Morning</td>\n",
       "    </tr>\n",
       "  </tbody>\n",
       "</table>\n",
       "</div>"
      ],
      "text/plain": [
       "  Carrier Code Date (MM/DD/YYYY)  Flight Number Tail Number Origin Airport  \\\n",
       "0           B6        2010-01-01             22      N608JB            JFK   \n",
       "1           B6        2010-01-01             44      N586JB            JFK   \n",
       "2           MQ        2010-01-01           4094      N610MQ            ORD   \n",
       "3           9E        2010-01-01           3818      89289E            DTW   \n",
       "4           B6        2010-01-01             42      N586JB            JFK   \n",
       "\n",
       "  Scheduled Arrival Time  Scheduled Elapsed Time (Minutes)  \\\n",
       "0                  00:01                                76   \n",
       "1                  08:55                                75   \n",
       "2                  11:20                               100   \n",
       "3                  11:44                                84   \n",
       "4                  11:52                                71   \n",
       "\n",
       "   Arrival Delay (Minutes) FLIGHT_STATUS  month  day  season WeekDay  \\\n",
       "0                      160          LATE      1    1  winter  Friday   \n",
       "1                       16          LATE      1    1  winter  Friday   \n",
       "2                        4        ONTIME      1    1  winter  Friday   \n",
       "3                       22          LATE      1    1  winter  Friday   \n",
       "4                       73          LATE      1    1  winter  Friday   \n",
       "\n",
       "  SCHED_ARRV_TIME_CAT  \n",
       "0          Late Night  \n",
       "1             Morning  \n",
       "2        Late Morning  \n",
       "3        Late Morning  \n",
       "4        Late Morning  "
      ]
     },
     "execution_count": 6,
     "metadata": {},
     "output_type": "execute_result"
    }
   ],
   "source": [
    "data.head()"
   ]
  },
  {
   "cell_type": "markdown",
   "id": "48f7d24d",
   "metadata": {},
   "source": [
    "# Processing For Prediction Starts Here -- TARGET CONVERTED TO CATEGORICAL"
   ]
  },
  {
   "cell_type": "code",
   "execution_count": 7,
   "id": "497e26d0",
   "metadata": {},
   "outputs": [],
   "source": [
    "df = data.drop(columns=['Date (MM/DD/YYYY)', 'Flight Number','Tail Number', 'Scheduled Arrival Time','Arrival Delay (Minutes)','day'])"
   ]
  },
  {
   "cell_type": "code",
   "execution_count": 8,
   "id": "3179422f",
   "metadata": {},
   "outputs": [
    {
     "data": {
      "text/html": [
       "<div>\n",
       "<style scoped>\n",
       "    .dataframe tbody tr th:only-of-type {\n",
       "        vertical-align: middle;\n",
       "    }\n",
       "\n",
       "    .dataframe tbody tr th {\n",
       "        vertical-align: top;\n",
       "    }\n",
       "\n",
       "    .dataframe thead th {\n",
       "        text-align: right;\n",
       "    }\n",
       "</style>\n",
       "<table border=\"1\" class=\"dataframe\">\n",
       "  <thead>\n",
       "    <tr style=\"text-align: right;\">\n",
       "      <th></th>\n",
       "      <th>Carrier Code</th>\n",
       "      <th>Origin Airport</th>\n",
       "      <th>Scheduled Elapsed Time (Minutes)</th>\n",
       "      <th>FLIGHT_STATUS</th>\n",
       "      <th>month</th>\n",
       "      <th>season</th>\n",
       "      <th>WeekDay</th>\n",
       "      <th>SCHED_ARRV_TIME_CAT</th>\n",
       "    </tr>\n",
       "  </thead>\n",
       "  <tbody>\n",
       "    <tr>\n",
       "      <th>0</th>\n",
       "      <td>B6</td>\n",
       "      <td>JFK</td>\n",
       "      <td>76</td>\n",
       "      <td>LATE</td>\n",
       "      <td>1</td>\n",
       "      <td>winter</td>\n",
       "      <td>Friday</td>\n",
       "      <td>Late Night</td>\n",
       "    </tr>\n",
       "    <tr>\n",
       "      <th>1</th>\n",
       "      <td>B6</td>\n",
       "      <td>JFK</td>\n",
       "      <td>75</td>\n",
       "      <td>LATE</td>\n",
       "      <td>1</td>\n",
       "      <td>winter</td>\n",
       "      <td>Friday</td>\n",
       "      <td>Morning</td>\n",
       "    </tr>\n",
       "    <tr>\n",
       "      <th>2</th>\n",
       "      <td>MQ</td>\n",
       "      <td>ORD</td>\n",
       "      <td>100</td>\n",
       "      <td>ONTIME</td>\n",
       "      <td>1</td>\n",
       "      <td>winter</td>\n",
       "      <td>Friday</td>\n",
       "      <td>Late Morning</td>\n",
       "    </tr>\n",
       "    <tr>\n",
       "      <th>3</th>\n",
       "      <td>9E</td>\n",
       "      <td>DTW</td>\n",
       "      <td>84</td>\n",
       "      <td>LATE</td>\n",
       "      <td>1</td>\n",
       "      <td>winter</td>\n",
       "      <td>Friday</td>\n",
       "      <td>Late Morning</td>\n",
       "    </tr>\n",
       "    <tr>\n",
       "      <th>4</th>\n",
       "      <td>B6</td>\n",
       "      <td>JFK</td>\n",
       "      <td>71</td>\n",
       "      <td>LATE</td>\n",
       "      <td>1</td>\n",
       "      <td>winter</td>\n",
       "      <td>Friday</td>\n",
       "      <td>Late Morning</td>\n",
       "    </tr>\n",
       "  </tbody>\n",
       "</table>\n",
       "</div>"
      ],
      "text/plain": [
       "  Carrier Code Origin Airport  Scheduled Elapsed Time (Minutes) FLIGHT_STATUS  \\\n",
       "0           B6            JFK                                76          LATE   \n",
       "1           B6            JFK                                75          LATE   \n",
       "2           MQ            ORD                               100        ONTIME   \n",
       "3           9E            DTW                                84          LATE   \n",
       "4           B6            JFK                                71          LATE   \n",
       "\n",
       "   month  season WeekDay SCHED_ARRV_TIME_CAT  \n",
       "0      1  winter  Friday          Late Night  \n",
       "1      1  winter  Friday             Morning  \n",
       "2      1  winter  Friday        Late Morning  \n",
       "3      1  winter  Friday        Late Morning  \n",
       "4      1  winter  Friday        Late Morning  "
      ]
     },
     "execution_count": 8,
     "metadata": {},
     "output_type": "execute_result"
    }
   ],
   "source": [
    "df.head()"
   ]
  },
  {
   "cell_type": "code",
   "execution_count": 9,
   "id": "6b6b698f",
   "metadata": {},
   "outputs": [],
   "source": [
    "from sklearn.base import BaseEstimator, TransformerMixin\n",
    "from sklearn.preprocessing import OneHotEncoder\n",
    "\n",
    "class MultiColumnOneHotEncoder(BaseEstimator, TransformerMixin):\n",
    "    def __init__(self, columns=None):\n",
    "        self.columns = columns\n",
    "        self.encoder = None\n",
    "\n",
    "    def fit(self, X, y=None):\n",
    "        self.encoder = OneHotEncoder(sparse_output=False, drop='first')\n",
    "        self.encoder.fit(X[self.columns])\n",
    "        return self\n",
    "\n",
    "    def transform(self, X):\n",
    "        X_encoded = X.copy()\n",
    "        encoded_data = self.encoder.transform(X[self.columns])\n",
    "        encoded_df = pd.DataFrame(encoded_data, columns=self.encoder.get_feature_names_out(self.columns), index=X.index)\n",
    "        \n",
    "        # Drop the original columns\n",
    "        X_encoded = X_encoded.drop(columns=self.columns)\n",
    "        \n",
    "        # Concatenate the encoded DataFrame with the original DataFrame, preserving the index\n",
    "        X_encoded = pd.concat([X_encoded, encoded_df], axis=1)\n",
    "        return X_encoded\n",
    "\n",
    "    def fit_transform(self, X, y=None):\n",
    "        self.fit(X)\n",
    "        return self.transform(X)"
   ]
  },
  {
   "cell_type": "code",
   "execution_count": 10,
   "id": "5830ab72",
   "metadata": {},
   "outputs": [
    {
     "data": {
      "text/plain": [
       "Index(['Carrier Code', 'Origin Airport', 'Scheduled Elapsed Time (Minutes)',\n",
       "       'FLIGHT_STATUS', 'month', 'season', 'WeekDay', 'SCHED_ARRV_TIME_CAT'],\n",
       "      dtype='object')"
      ]
     },
     "execution_count": 10,
     "metadata": {},
     "output_type": "execute_result"
    }
   ],
   "source": [
    "df.columns"
   ]
  },
  {
   "cell_type": "code",
   "execution_count": 11,
   "id": "1c67c02a",
   "metadata": {},
   "outputs": [
    {
     "data": {
      "text/plain": [
       "FLIGHT_STATUS\n",
       "EARLY     52240\n",
       "LATE      34106\n",
       "ONTIME    27325\n",
       "Name: count, dtype: int64"
      ]
     },
     "execution_count": 11,
     "metadata": {},
     "output_type": "execute_result"
    }
   ],
   "source": [
    "df['FLIGHT_STATUS'].value_counts()"
   ]
  },
  {
   "cell_type": "code",
   "execution_count": 12,
   "id": "fbe72681",
   "metadata": {},
   "outputs": [],
   "source": [
    "encoder = MultiColumnOneHotEncoder(columns=['Carrier Code', 'Origin Airport','season', 'SCHED_ARRV_TIME_CAT', 'month', 'WeekDay'])"
   ]
  },
  {
   "cell_type": "code",
   "execution_count": 13,
   "id": "d094b99d",
   "metadata": {},
   "outputs": [],
   "source": [
    "encoded_data = encoder.fit_transform(df.drop(columns=['FLIGHT_STATUS']))"
   ]
  },
  {
   "cell_type": "code",
   "execution_count": 14,
   "id": "9eabd827",
   "metadata": {},
   "outputs": [],
   "source": [
    "trainX, testX, trainY, testY = train_test_split(\n",
    "    encoded_data,\n",
    "    df['FLIGHT_STATUS'], \n",
    "    test_size=0.2, \n",
    "    random_state=947,\n",
    "    stratify=df['FLIGHT_STATUS']\n",
    ")"
   ]
  },
  {
   "cell_type": "code",
   "execution_count": null,
   "id": "6439c8ea",
   "metadata": {},
   "outputs": [],
   "source": []
  },
  {
   "cell_type": "code",
   "execution_count": 15,
   "id": "c42ea947",
   "metadata": {},
   "outputs": [],
   "source": [
    "from sklearn.preprocessing import StandardScaler"
   ]
  },
  {
   "cell_type": "code",
   "execution_count": 16,
   "id": "8426df32",
   "metadata": {},
   "outputs": [],
   "source": [
    "scaler = StandardScaler()\n",
    "\n",
    "\n",
    "enc_trainX = pd.DataFrame(scaler.fit_transform(trainX), index=trainX.index, columns=trainX.columns)\n",
    "enc_testX = pd.DataFrame(scaler.transform(testX), index=testX.index, columns=testX.columns)"
   ]
  },
  {
   "cell_type": "code",
   "execution_count": 17,
   "id": "e50205a2",
   "metadata": {},
   "outputs": [
    {
     "data": {
      "text/html": [
       "<div>\n",
       "<style scoped>\n",
       "    .dataframe tbody tr th:only-of-type {\n",
       "        vertical-align: middle;\n",
       "    }\n",
       "\n",
       "    .dataframe tbody tr th {\n",
       "        vertical-align: top;\n",
       "    }\n",
       "\n",
       "    .dataframe thead th {\n",
       "        text-align: right;\n",
       "    }\n",
       "</style>\n",
       "<table border=\"1\" class=\"dataframe\">\n",
       "  <thead>\n",
       "    <tr style=\"text-align: right;\">\n",
       "      <th></th>\n",
       "      <th>Scheduled Elapsed Time (Minutes)</th>\n",
       "      <th>Carrier Code_AA</th>\n",
       "      <th>Carrier Code_B6</th>\n",
       "      <th>Carrier Code_DL</th>\n",
       "      <th>Carrier Code_EV</th>\n",
       "      <th>Carrier Code_F9</th>\n",
       "      <th>Carrier Code_G4</th>\n",
       "      <th>Carrier Code_MQ</th>\n",
       "      <th>Carrier Code_OH</th>\n",
       "      <th>Carrier Code_OO</th>\n",
       "      <th>...</th>\n",
       "      <th>month_9</th>\n",
       "      <th>month_10</th>\n",
       "      <th>month_11</th>\n",
       "      <th>month_12</th>\n",
       "      <th>WeekDay_Monday</th>\n",
       "      <th>WeekDay_Saturday</th>\n",
       "      <th>WeekDay_Sunday</th>\n",
       "      <th>WeekDay_Thursday</th>\n",
       "      <th>WeekDay_Tuesday</th>\n",
       "      <th>WeekDay_Wednesday</th>\n",
       "    </tr>\n",
       "  </thead>\n",
       "  <tbody>\n",
       "    <tr>\n",
       "      <th>109767</th>\n",
       "      <td>0.420191</td>\n",
       "      <td>-0.237358</td>\n",
       "      <td>-0.448859</td>\n",
       "      <td>-0.351464</td>\n",
       "      <td>-0.344872</td>\n",
       "      <td>-0.127516</td>\n",
       "      <td>-0.15405</td>\n",
       "      <td>2.914831</td>\n",
       "      <td>-0.226431</td>\n",
       "      <td>-0.280112</td>\n",
       "      <td>...</td>\n",
       "      <td>3.302855</td>\n",
       "      <td>-0.312682</td>\n",
       "      <td>-0.30596</td>\n",
       "      <td>-0.300294</td>\n",
       "      <td>-0.417338</td>\n",
       "      <td>-0.370459</td>\n",
       "      <td>-0.408178</td>\n",
       "      <td>-0.420982</td>\n",
       "      <td>-0.409240</td>\n",
       "      <td>-0.411655</td>\n",
       "    </tr>\n",
       "    <tr>\n",
       "      <th>21666</th>\n",
       "      <td>-1.129327</td>\n",
       "      <td>-0.237358</td>\n",
       "      <td>-0.448859</td>\n",
       "      <td>-0.351464</td>\n",
       "      <td>2.899624</td>\n",
       "      <td>-0.127516</td>\n",
       "      <td>-0.15405</td>\n",
       "      <td>-0.343073</td>\n",
       "      <td>-0.226431</td>\n",
       "      <td>-0.280112</td>\n",
       "      <td>...</td>\n",
       "      <td>-0.302768</td>\n",
       "      <td>-0.312682</td>\n",
       "      <td>-0.30596</td>\n",
       "      <td>-0.300294</td>\n",
       "      <td>-0.417338</td>\n",
       "      <td>-0.370459</td>\n",
       "      <td>2.449914</td>\n",
       "      <td>-0.420982</td>\n",
       "      <td>-0.409240</td>\n",
       "      <td>-0.411655</td>\n",
       "    </tr>\n",
       "    <tr>\n",
       "      <th>107873</th>\n",
       "      <td>2.104451</td>\n",
       "      <td>-0.237358</td>\n",
       "      <td>2.227871</td>\n",
       "      <td>-0.351464</td>\n",
       "      <td>-0.344872</td>\n",
       "      <td>-0.127516</td>\n",
       "      <td>-0.15405</td>\n",
       "      <td>-0.343073</td>\n",
       "      <td>-0.226431</td>\n",
       "      <td>-0.280112</td>\n",
       "      <td>...</td>\n",
       "      <td>-0.302768</td>\n",
       "      <td>-0.312682</td>\n",
       "      <td>-0.30596</td>\n",
       "      <td>-0.300294</td>\n",
       "      <td>-0.417338</td>\n",
       "      <td>-0.370459</td>\n",
       "      <td>-0.408178</td>\n",
       "      <td>-0.420982</td>\n",
       "      <td>-0.409240</td>\n",
       "      <td>-0.411655</td>\n",
       "    </tr>\n",
       "    <tr>\n",
       "      <th>20188</th>\n",
       "      <td>0.049654</td>\n",
       "      <td>-0.237358</td>\n",
       "      <td>-0.448859</td>\n",
       "      <td>-0.351464</td>\n",
       "      <td>-0.344872</td>\n",
       "      <td>-0.127516</td>\n",
       "      <td>-0.15405</td>\n",
       "      <td>2.914831</td>\n",
       "      <td>-0.226431</td>\n",
       "      <td>-0.280112</td>\n",
       "      <td>...</td>\n",
       "      <td>-0.302768</td>\n",
       "      <td>-0.312682</td>\n",
       "      <td>-0.30596</td>\n",
       "      <td>-0.300294</td>\n",
       "      <td>-0.417338</td>\n",
       "      <td>-0.370459</td>\n",
       "      <td>-0.408178</td>\n",
       "      <td>-0.420982</td>\n",
       "      <td>-0.409240</td>\n",
       "      <td>-0.411655</td>\n",
       "    </tr>\n",
       "    <tr>\n",
       "      <th>96511</th>\n",
       "      <td>-0.624050</td>\n",
       "      <td>-0.237358</td>\n",
       "      <td>-0.448859</td>\n",
       "      <td>-0.351464</td>\n",
       "      <td>-0.344872</td>\n",
       "      <td>-0.127516</td>\n",
       "      <td>-0.15405</td>\n",
       "      <td>-0.343073</td>\n",
       "      <td>4.416353</td>\n",
       "      <td>-0.280112</td>\n",
       "      <td>...</td>\n",
       "      <td>3.302855</td>\n",
       "      <td>-0.312682</td>\n",
       "      <td>-0.30596</td>\n",
       "      <td>-0.300294</td>\n",
       "      <td>-0.417338</td>\n",
       "      <td>-0.370459</td>\n",
       "      <td>-0.408178</td>\n",
       "      <td>-0.420982</td>\n",
       "      <td>2.443552</td>\n",
       "      <td>-0.411655</td>\n",
       "    </tr>\n",
       "    <tr>\n",
       "      <th>...</th>\n",
       "      <td>...</td>\n",
       "      <td>...</td>\n",
       "      <td>...</td>\n",
       "      <td>...</td>\n",
       "      <td>...</td>\n",
       "      <td>...</td>\n",
       "      <td>...</td>\n",
       "      <td>...</td>\n",
       "      <td>...</td>\n",
       "      <td>...</td>\n",
       "      <td>...</td>\n",
       "      <td>...</td>\n",
       "      <td>...</td>\n",
       "      <td>...</td>\n",
       "      <td>...</td>\n",
       "      <td>...</td>\n",
       "      <td>...</td>\n",
       "      <td>...</td>\n",
       "      <td>...</td>\n",
       "      <td>...</td>\n",
       "      <td>...</td>\n",
       "    </tr>\n",
       "    <tr>\n",
       "      <th>56030</th>\n",
       "      <td>1.969710</td>\n",
       "      <td>-0.237358</td>\n",
       "      <td>2.227871</td>\n",
       "      <td>-0.351464</td>\n",
       "      <td>-0.344872</td>\n",
       "      <td>-0.127516</td>\n",
       "      <td>-0.15405</td>\n",
       "      <td>-0.343073</td>\n",
       "      <td>-0.226431</td>\n",
       "      <td>-0.280112</td>\n",
       "      <td>...</td>\n",
       "      <td>-0.302768</td>\n",
       "      <td>-0.312682</td>\n",
       "      <td>-0.30596</td>\n",
       "      <td>-0.300294</td>\n",
       "      <td>-0.417338</td>\n",
       "      <td>2.699351</td>\n",
       "      <td>-0.408178</td>\n",
       "      <td>-0.420982</td>\n",
       "      <td>-0.409240</td>\n",
       "      <td>-0.411655</td>\n",
       "    </tr>\n",
       "    <tr>\n",
       "      <th>22547</th>\n",
       "      <td>1.228636</td>\n",
       "      <td>-0.237358</td>\n",
       "      <td>-0.448859</td>\n",
       "      <td>2.845245</td>\n",
       "      <td>-0.344872</td>\n",
       "      <td>-0.127516</td>\n",
       "      <td>-0.15405</td>\n",
       "      <td>-0.343073</td>\n",
       "      <td>-0.226431</td>\n",
       "      <td>-0.280112</td>\n",
       "      <td>...</td>\n",
       "      <td>-0.302768</td>\n",
       "      <td>-0.312682</td>\n",
       "      <td>-0.30596</td>\n",
       "      <td>-0.300294</td>\n",
       "      <td>-0.417338</td>\n",
       "      <td>-0.370459</td>\n",
       "      <td>2.449914</td>\n",
       "      <td>-0.420982</td>\n",
       "      <td>-0.409240</td>\n",
       "      <td>-0.411655</td>\n",
       "    </tr>\n",
       "    <tr>\n",
       "      <th>63492</th>\n",
       "      <td>0.790729</td>\n",
       "      <td>-0.237358</td>\n",
       "      <td>-0.448859</td>\n",
       "      <td>2.845245</td>\n",
       "      <td>-0.344872</td>\n",
       "      <td>-0.127516</td>\n",
       "      <td>-0.15405</td>\n",
       "      <td>-0.343073</td>\n",
       "      <td>-0.226431</td>\n",
       "      <td>-0.280112</td>\n",
       "      <td>...</td>\n",
       "      <td>-0.302768</td>\n",
       "      <td>-0.312682</td>\n",
       "      <td>-0.30596</td>\n",
       "      <td>-0.300294</td>\n",
       "      <td>-0.417338</td>\n",
       "      <td>-0.370459</td>\n",
       "      <td>-0.408178</td>\n",
       "      <td>-0.420982</td>\n",
       "      <td>-0.409240</td>\n",
       "      <td>-0.411655</td>\n",
       "    </tr>\n",
       "    <tr>\n",
       "      <th>51736</th>\n",
       "      <td>1.262321</td>\n",
       "      <td>-0.237358</td>\n",
       "      <td>-0.448859</td>\n",
       "      <td>2.845245</td>\n",
       "      <td>-0.344872</td>\n",
       "      <td>-0.127516</td>\n",
       "      <td>-0.15405</td>\n",
       "      <td>-0.343073</td>\n",
       "      <td>-0.226431</td>\n",
       "      <td>-0.280112</td>\n",
       "      <td>...</td>\n",
       "      <td>-0.302768</td>\n",
       "      <td>3.198133</td>\n",
       "      <td>-0.30596</td>\n",
       "      <td>-0.300294</td>\n",
       "      <td>2.396141</td>\n",
       "      <td>-0.370459</td>\n",
       "      <td>-0.408178</td>\n",
       "      <td>-0.420982</td>\n",
       "      <td>-0.409240</td>\n",
       "      <td>-0.411655</td>\n",
       "    </tr>\n",
       "    <tr>\n",
       "      <th>104601</th>\n",
       "      <td>-0.792475</td>\n",
       "      <td>-0.237358</td>\n",
       "      <td>-0.448859</td>\n",
       "      <td>-0.351464</td>\n",
       "      <td>-0.344872</td>\n",
       "      <td>-0.127516</td>\n",
       "      <td>-0.15405</td>\n",
       "      <td>-0.343073</td>\n",
       "      <td>-0.226431</td>\n",
       "      <td>-0.280112</td>\n",
       "      <td>...</td>\n",
       "      <td>-0.302768</td>\n",
       "      <td>-0.312682</td>\n",
       "      <td>-0.30596</td>\n",
       "      <td>-0.300294</td>\n",
       "      <td>2.396141</td>\n",
       "      <td>-0.370459</td>\n",
       "      <td>-0.408178</td>\n",
       "      <td>-0.420982</td>\n",
       "      <td>-0.409240</td>\n",
       "      <td>-0.411655</td>\n",
       "    </tr>\n",
       "  </tbody>\n",
       "</table>\n",
       "<p>90936 rows × 71 columns</p>\n",
       "</div>"
      ],
      "text/plain": [
       "        Scheduled Elapsed Time (Minutes)  Carrier Code_AA  Carrier Code_B6  \\\n",
       "109767                          0.420191        -0.237358        -0.448859   \n",
       "21666                          -1.129327        -0.237358        -0.448859   \n",
       "107873                          2.104451        -0.237358         2.227871   \n",
       "20188                           0.049654        -0.237358        -0.448859   \n",
       "96511                          -0.624050        -0.237358        -0.448859   \n",
       "...                                  ...              ...              ...   \n",
       "56030                           1.969710        -0.237358         2.227871   \n",
       "22547                           1.228636        -0.237358        -0.448859   \n",
       "63492                           0.790729        -0.237358        -0.448859   \n",
       "51736                           1.262321        -0.237358        -0.448859   \n",
       "104601                         -0.792475        -0.237358        -0.448859   \n",
       "\n",
       "        Carrier Code_DL  Carrier Code_EV  Carrier Code_F9  Carrier Code_G4  \\\n",
       "109767        -0.351464        -0.344872        -0.127516         -0.15405   \n",
       "21666         -0.351464         2.899624        -0.127516         -0.15405   \n",
       "107873        -0.351464        -0.344872        -0.127516         -0.15405   \n",
       "20188         -0.351464        -0.344872        -0.127516         -0.15405   \n",
       "96511         -0.351464        -0.344872        -0.127516         -0.15405   \n",
       "...                 ...              ...              ...              ...   \n",
       "56030         -0.351464        -0.344872        -0.127516         -0.15405   \n",
       "22547          2.845245        -0.344872        -0.127516         -0.15405   \n",
       "63492          2.845245        -0.344872        -0.127516         -0.15405   \n",
       "51736          2.845245        -0.344872        -0.127516         -0.15405   \n",
       "104601        -0.351464        -0.344872        -0.127516         -0.15405   \n",
       "\n",
       "        Carrier Code_MQ  Carrier Code_OH  Carrier Code_OO  ...   month_9  \\\n",
       "109767         2.914831        -0.226431        -0.280112  ...  3.302855   \n",
       "21666         -0.343073        -0.226431        -0.280112  ... -0.302768   \n",
       "107873        -0.343073        -0.226431        -0.280112  ... -0.302768   \n",
       "20188          2.914831        -0.226431        -0.280112  ... -0.302768   \n",
       "96511         -0.343073         4.416353        -0.280112  ...  3.302855   \n",
       "...                 ...              ...              ...  ...       ...   \n",
       "56030         -0.343073        -0.226431        -0.280112  ... -0.302768   \n",
       "22547         -0.343073        -0.226431        -0.280112  ... -0.302768   \n",
       "63492         -0.343073        -0.226431        -0.280112  ... -0.302768   \n",
       "51736         -0.343073        -0.226431        -0.280112  ... -0.302768   \n",
       "104601        -0.343073        -0.226431        -0.280112  ... -0.302768   \n",
       "\n",
       "        month_10  month_11  month_12  WeekDay_Monday  WeekDay_Saturday  \\\n",
       "109767 -0.312682  -0.30596 -0.300294       -0.417338         -0.370459   \n",
       "21666  -0.312682  -0.30596 -0.300294       -0.417338         -0.370459   \n",
       "107873 -0.312682  -0.30596 -0.300294       -0.417338         -0.370459   \n",
       "20188  -0.312682  -0.30596 -0.300294       -0.417338         -0.370459   \n",
       "96511  -0.312682  -0.30596 -0.300294       -0.417338         -0.370459   \n",
       "...          ...       ...       ...             ...               ...   \n",
       "56030  -0.312682  -0.30596 -0.300294       -0.417338          2.699351   \n",
       "22547  -0.312682  -0.30596 -0.300294       -0.417338         -0.370459   \n",
       "63492  -0.312682  -0.30596 -0.300294       -0.417338         -0.370459   \n",
       "51736   3.198133  -0.30596 -0.300294        2.396141         -0.370459   \n",
       "104601 -0.312682  -0.30596 -0.300294        2.396141         -0.370459   \n",
       "\n",
       "        WeekDay_Sunday  WeekDay_Thursday  WeekDay_Tuesday  WeekDay_Wednesday  \n",
       "109767       -0.408178         -0.420982        -0.409240          -0.411655  \n",
       "21666         2.449914         -0.420982        -0.409240          -0.411655  \n",
       "107873       -0.408178         -0.420982        -0.409240          -0.411655  \n",
       "20188        -0.408178         -0.420982        -0.409240          -0.411655  \n",
       "96511        -0.408178         -0.420982         2.443552          -0.411655  \n",
       "...                ...               ...              ...                ...  \n",
       "56030        -0.408178         -0.420982        -0.409240          -0.411655  \n",
       "22547         2.449914         -0.420982        -0.409240          -0.411655  \n",
       "63492        -0.408178         -0.420982        -0.409240          -0.411655  \n",
       "51736        -0.408178         -0.420982        -0.409240          -0.411655  \n",
       "104601       -0.408178         -0.420982        -0.409240          -0.411655  \n",
       "\n",
       "[90936 rows x 71 columns]"
      ]
     },
     "execution_count": 17,
     "metadata": {},
     "output_type": "execute_result"
    }
   ],
   "source": [
    "enc_trainX"
   ]
  },
  {
   "cell_type": "code",
   "execution_count": 18,
   "id": "6c9cf812",
   "metadata": {},
   "outputs": [],
   "source": [
    "from sklearn.linear_model import LogisticRegression\n",
    "from sklearn.metrics import accuracy_score, classification_report\n",
    "\n",
    "from sklearn.linear_model import LogisticRegression\n",
    "from sklearn.metrics import accuracy_score, classification_report\n",
    "\n",
    "def logistic_regression_classification(trainX, trainY, testX, testY, penalty='l2', C=1.0, max_iter=1000, solver='lbfgs'):\n",
    "    target_names = trainY.unique() if isinstance(trainY, pd.Series) else testY.unique()\n",
    "    \n",
    "    # Initialize and train the Logistic Regression model\n",
    "    model = LogisticRegression(penalty=penalty, C=C, max_iter=max_iter, solver=solver, verbose=1 if max_iter > 300 else 0)\n",
    "    model.fit(trainX, trainY)\n",
    "    \n",
    "    # Predict on the testing set\n",
    "    testY_pred = model.predict(testX)\n",
    "    \n",
    "    # Calculate accuracy score\n",
    "    accuracy = accuracy_score(testY, testY_pred)\n",
    "    \n",
    "    # Generate classification report\n",
    "    report = classification_report(testY, testY_pred, target_names=target_names, output_dict=True)\n",
    "    \n",
    "    results = {\n",
    "        'accuracy': accuracy,\n",
    "        'classification_report': report\n",
    "    }\n",
    "    \n",
    "    return results\n"
   ]
  },
  {
   "cell_type": "code",
   "execution_count": 19,
   "id": "21ac7b33",
   "metadata": {},
   "outputs": [
    {
     "name": "stdout",
     "output_type": "stream",
     "text": [
      "Epoch 1, change: 1.00000000\n",
      "Epoch 2, change: 0.42319103\n",
      "Epoch 3, change: 0.24102994\n",
      "Epoch 4, change: 0.16906033\n",
      "Epoch 5, change: 0.13098835\n",
      "Epoch 6, change: 0.10731969\n",
      "Epoch 7, change: 0.09206873\n",
      "Epoch 8, change: 0.07903726\n",
      "Epoch 9, change: 0.06968278\n",
      "Epoch 10, change: 0.06151438\n",
      "Epoch 11, change: 0.05529260\n",
      "Epoch 12, change: 0.04978770\n",
      "Epoch 13, change: 0.04528152\n",
      "Epoch 14, change: 0.04139726\n",
      "Epoch 15, change: 0.03813639\n",
      "Epoch 16, change: 0.03520771\n",
      "Epoch 17, change: 0.03261104\n",
      "Epoch 18, change: 0.03034587\n",
      "Epoch 19, change: 0.02833919\n",
      "Epoch 20, change: 0.02651674\n",
      "Epoch 21, change: 0.02485797\n",
      "Epoch 22, change: 0.02333408\n",
      "Epoch 23, change: 0.02201863\n",
      "Epoch 24, change: 0.02068724\n",
      "Epoch 25, change: 0.01961736\n",
      "Epoch 26, change: 0.01850617\n",
      "Epoch 27, change: 0.01751525\n",
      "Epoch 28, change: 0.01664010\n",
      "Epoch 29, change: 0.01579761\n",
      "Epoch 30, change: 0.01502216\n",
      "Epoch 31, change: 0.01425323\n",
      "Epoch 32, change: 0.01357403\n",
      "Epoch 33, change: 0.01293634\n",
      "Epoch 34, change: 0.01233940\n",
      "Epoch 35, change: 0.01173628\n",
      "Epoch 36, change: 0.01125728\n",
      "Epoch 37, change: 0.01071882\n",
      "Epoch 38, change: 0.01025886\n",
      "Epoch 39, change: 0.00979573\n",
      "Epoch 40, change: 0.00938990\n",
      "Epoch 41, change: 0.00899613\n",
      "Epoch 42, change: 0.00860578\n",
      "Epoch 43, change: 0.00824547\n",
      "Epoch 44, change: 0.00789117\n",
      "Epoch 45, change: 0.00760151\n",
      "Epoch 46, change: 0.00726451\n",
      "Epoch 47, change: 0.00698244\n",
      "Epoch 48, change: 0.00669341\n",
      "Epoch 49, change: 0.00645059\n",
      "Epoch 50, change: 0.00615449\n",
      "Epoch 51, change: 0.00594796\n",
      "Epoch 52, change: 0.00570206\n",
      "Epoch 53, change: 0.00547510\n",
      "Epoch 54, change: 0.00526715\n",
      "Epoch 55, change: 0.00507371\n",
      "Epoch 56, change: 0.00488907\n",
      "Epoch 57, change: 0.00468797\n",
      "Epoch 58, change: 0.00452554\n",
      "Epoch 59, change: 0.00433986\n",
      "Epoch 60, change: 0.00420478\n",
      "Epoch 61, change: 0.00402813\n",
      "Epoch 62, change: 0.00388705\n",
      "Epoch 63, change: 0.00374548\n",
      "Epoch 64, change: 0.00360809\n",
      "Epoch 65, change: 0.00346993\n",
      "Epoch 66, change: 0.00335640\n",
      "Epoch 67, change: 0.00322905\n",
      "Epoch 68, change: 0.00311501\n",
      "Epoch 69, change: 0.00300197\n",
      "Epoch 70, change: 0.00290003\n",
      "Epoch 71, change: 0.00279373\n",
      "Epoch 72, change: 0.00269734\n",
      "Epoch 73, change: 0.00260099\n",
      "Epoch 74, change: 0.00250685\n",
      "Epoch 75, change: 0.00242399\n",
      "Epoch 76, change: 0.00233741\n",
      "Epoch 77, change: 0.00225409\n",
      "Epoch 78, change: 0.00218262\n",
      "Epoch 79, change: 0.00209936\n",
      "Epoch 80, change: 0.00203123\n",
      "Epoch 81, change: 0.00196151\n",
      "Epoch 82, change: 0.00188823\n",
      "Epoch 83, change: 0.00183249\n",
      "Epoch 84, change: 0.00176803\n",
      "Epoch 85, change: 0.00169843\n",
      "Epoch 86, change: 0.00165039\n",
      "Epoch 87, change: 0.00159593\n",
      "Epoch 88, change: 0.00153640\n",
      "Epoch 89, change: 0.00148648\n",
      "Epoch 90, change: 0.00143409\n",
      "Epoch 91, change: 0.00138550\n",
      "Epoch 92, change: 0.00134232\n",
      "Epoch 93, change: 0.00129631\n",
      "Epoch 94, change: 0.00125224\n",
      "Epoch 95, change: 0.00121125\n",
      "Epoch 96, change: 0.00117074\n",
      "Epoch 97, change: 0.00113025\n",
      "Epoch 98, change: 0.00109632\n",
      "Epoch 99, change: 0.00105604\n",
      "Epoch 100, change: 0.00102363\n",
      "Epoch 101, change: 0.00099216\n",
      "Epoch 102, change: 0.00095589\n",
      "Epoch 103, change: 0.00092503\n",
      "Epoch 104, change: 0.00089459\n",
      "Epoch 105, change: 0.00086481\n",
      "Epoch 106, change: 0.00083652\n",
      "Epoch 107, change: 0.00080814\n",
      "Epoch 108, change: 0.00078498\n",
      "Epoch 109, change: 0.00075863\n",
      "Epoch 110, change: 0.00073200\n",
      "Epoch 111, change: 0.00070936\n",
      "Epoch 112, change: 0.00068630\n",
      "Epoch 113, change: 0.00066279\n",
      "Epoch 114, change: 0.00064198\n",
      "Epoch 115, change: 0.00062195\n",
      "Epoch 116, change: 0.00060166\n",
      "Epoch 117, change: 0.00058241\n",
      "Epoch 118, change: 0.00056203\n",
      "Epoch 119, change: 0.00054573\n",
      "Epoch 120, change: 0.00052732\n",
      "Epoch 121, change: 0.00051016\n",
      "Epoch 122, change: 0.00049379\n",
      "Epoch 123, change: 0.00047828\n",
      "Epoch 124, change: 0.00046345\n",
      "Epoch 125, change: 0.00044947\n",
      "Epoch 126, change: 0.00043882\n",
      "Epoch 127, change: 0.00042550\n",
      "Epoch 128, change: 0.00041638\n",
      "Epoch 129, change: 0.00040549\n",
      "Epoch 130, change: 0.00039383\n",
      "Epoch 131, change: 0.00038438\n",
      "Epoch 132, change: 0.00037425\n",
      "Epoch 133, change: 0.00036470\n",
      "Epoch 134, change: 0.00035577\n",
      "Epoch 135, change: 0.00034634\n",
      "Epoch 136, change: 0.00033746\n",
      "Epoch 137, change: 0.00032910\n",
      "Epoch 138, change: 0.00032073\n",
      "Epoch 139, change: 0.00031228\n",
      "Epoch 140, change: 0.00030435\n",
      "Epocconvergence after 185 epochs took 22 seconds\n",
      "{'accuracy': 0.4910490433252694, 'classification_report': {'EARLY': {'precision': 0.5144789935912651, 'recall': 0.8298238897396631, 'f1-score': 0.6351648351648351, 'support': 10448.0}, 'LATE': {'precision': 0.42660063671736825, 'recall': 0.35356200527704484, 'f1-score': 0.3866623917922411, 'support': 6822.0}, 'ONTIME': {'precision': 0.35807860262008734, 'recall': 0.015004574565416285, 'f1-score': 0.02880224798033017, 'support': 5465.0}, 'accuracy': 0.4910490433252694, 'macro avg': {'precision': 0.4330527443095736, 'recall': 0.3994634898607081, 'f1-score': 0.3502098249791355, 'support': 22735.0}, 'weighted avg': {'precision': 0.4505144329028459, 'recall': 0.4910490433252694, 'f1-score': 0.4148413160246919, 'support': 22735.0}}}\n"
     ]
    }
   ],
   "source": [
    "report = logistic_regression_classification(enc_trainX, trainY, enc_testX, testY, max_iter=1500, solver='saga')\n",
    "print(report)"
   ]
  },
  {
   "cell_type": "code",
   "execution_count": 20,
   "id": "e367b8e3",
   "metadata": {},
   "outputs": [],
   "source": [
    "from sklearn.tree import DecisionTreeClassifier\n",
    "from sklearn.metrics import accuracy_score, classification_report\n",
    "\n",
    "def decision_tree_classification(trainX, trainY, testX, testY, criterion='gini', max_depth=None):\n",
    "\n",
    "    # Get unique target names\n",
    "    target_names = trainY.unique() if isinstance(trainY, pd.Series) else testY.unique()\n",
    "    \n",
    "    # Initialize and train the Decision Tree model\n",
    "    model = DecisionTreeClassifier(criterion=criterion, max_depth=max_depth)\n",
    "    model.fit(trainX, trainY)\n",
    "    \n",
    "    # Predict on the testing set\n",
    "    testY_pred = model.predict(testX)\n",
    "    \n",
    "    # Calculate accuracy score\n",
    "    accuracy = accuracy_score(testY, testY_pred)\n",
    "    \n",
    "    # Generate classification report\n",
    "    report = classification_report(testY, testY_pred, target_names=target_names, output_dict=True)\n",
    "    \n",
    "    results = {\n",
    "        'accuracy': accuracy,\n",
    "        'classification_report': report\n",
    "    }\n",
    "    \n",
    "    return results"
   ]
  },
  {
   "cell_type": "code",
   "execution_count": 21,
   "id": "31724017",
   "metadata": {},
   "outputs": [],
   "source": [
    "from sklearn.metrics import accuracy_score, classification_report\n",
    "\n",
    "from sklearn.preprocessing import LabelEncoder\n",
    "\n",
    "def fit_and_evaluate(model, trainX, trainY, testX, testY):\n",
    "    # Convert string labels to integers\n",
    "    label_encoder = LabelEncoder()\n",
    "    trainY_encoded = label_encoder.fit_transform(trainY)\n",
    "    testY_encoded = label_encoder.transform(testY)\n",
    "    \n",
    "    model.fit(trainX, trainY_encoded)\n",
    "    testY_pred = model.predict(testX)\n",
    "    accuracy = accuracy_score(testY_encoded, testY_pred)\n",
    "    report = classification_report(testY_encoded, testY_pred, output_dict=True)\n",
    "    results = {'accuracy': accuracy, 'classification_report': report}\n",
    "    return results\n",
    "\n",
    "# Update other classification functions similarly...\n",
    "\n",
    "\n",
    "# Random Forest\n",
    "from sklearn.ensemble import RandomForestClassifier\n",
    "\n",
    "def random_forest_classification(trainX, trainY, testX, testY, n_estimators=100, criterion='gini', max_depth=None):\n",
    "    model = RandomForestClassifier(n_estimators=n_estimators, criterion=criterion, max_depth=max_depth)\n",
    "    return fit_and_evaluate(model, trainX, trainY, testX, testY)\n",
    "\n",
    "# Support Vector Machines (SVM)\n",
    "from sklearn.svm import SVC\n",
    "\n",
    "def svm_classification(trainX, trainY, testX, testY, kernel='rbf', C=1.0):\n",
    "    model = SVC(kernel=kernel, C=C)\n",
    "    return fit_and_evaluate(model, trainX, trainY, testX, testY)\n",
    "\n",
    "# K-Nearest Neighbors (KNN)\n",
    "from sklearn.neighbors import KNeighborsClassifier\n",
    "\n",
    "def knn_classification(trainX, trainY, testX, testY, n_neighbors=5):\n",
    "    model = KNeighborsClassifier(n_neighbors=n_neighbors)\n",
    "    return fit_and_evaluate(model, trainX, trainY, testX, testY)\n",
    "\n",
    "# Gradient Boosting Machines (GBM)\n",
    "from sklearn.ensemble import GradientBoostingClassifier\n",
    "\n",
    "def gbm_classification(trainX, trainY, testX, testY, n_estimators=100, learning_rate=0.1, max_depth=3):\n",
    "    model = GradientBoostingClassifier(n_estimators=n_estimators, learning_rate=learning_rate, max_depth=max_depth)\n",
    "    return fit_and_evaluate(model, trainX, trainY, testX, testY)\n",
    "\n",
    "# Naive Bayes\n",
    "from sklearn.naive_bayes import GaussianNB\n",
    "\n",
    "def naive_bayes_classification(trainX, trainY, testX, testY):\n",
    "    model = GaussianNB()\n",
    "    return fit_and_evaluate(model, trainX, trainY, testX, testY)\n",
    "\n",
    "# AdaBoost\n",
    "from sklearn.ensemble import AdaBoostClassifier\n",
    "\n",
    "def adaboost_classification(trainX, trainY, testX, testY, n_estimators=50, learning_rate=1.0):\n",
    "    model = AdaBoostClassifier(n_estimators=n_estimators, learning_rate=learning_rate)\n",
    "    return fit_and_evaluate(model, trainX, trainY, testX, testY)\n",
    "\n",
    "# XGBoost\n",
    "from xgboost import XGBClassifier\n",
    "\n",
    "def xgboost_classification(trainX, trainY, testX, testY, n_estimators=100, learning_rate=0.1, max_depth=3):\n",
    "    model = XGBClassifier(n_estimators=n_estimators, learning_rate=learning_rate, max_depth=max_depth)\n",
    "    return fit_and_evaluate(model, trainX, trainY, testX, testY)\n"
   ]
  },
  {
   "cell_type": "code",
   "execution_count": 22,
   "id": "15ee41eb",
   "metadata": {},
   "outputs": [],
   "source": [
    "res = []"
   ]
  },
  {
   "cell_type": "markdown",
   "id": "ad339408",
   "metadata": {},
   "source": [
    "res.append(decision_tree_classification(enc_trainX, trainY, enc_testX, testY))"
   ]
  },
  {
   "cell_type": "markdown",
   "id": "0e2f1677",
   "metadata": {},
   "source": [
    "res.append(random_forest_classification(enc_trainX, trainY, enc_testX, testY))"
   ]
  },
  {
   "cell_type": "markdown",
   "id": "2e4e7610",
   "metadata": {},
   "source": [
    "#svm_classification(enc_trainX, trainY, enc_testX, testY)"
   ]
  },
  {
   "cell_type": "markdown",
   "id": "961707f3",
   "metadata": {},
   "source": [
    "res.append(knn_classification(enc_trainX, trainY, enc_testX, testY))"
   ]
  },
  {
   "cell_type": "markdown",
   "id": "a486edae",
   "metadata": {},
   "source": [
    "res.append(gbm_classification(enc_trainX, trainY, enc_testX, testY))"
   ]
  },
  {
   "cell_type": "markdown",
   "id": "3d0ba0b0",
   "metadata": {},
   "source": [
    "res.append(naive_bayes_classification(enc_trainX, trainY, enc_testX, testY))"
   ]
  },
  {
   "cell_type": "markdown",
   "id": "142ead5a",
   "metadata": {},
   "source": [
    "res.append(adaboost_classification(enc_trainX, trainY, enc_testX, testY))"
   ]
  },
  {
   "cell_type": "markdown",
   "id": "3b32116f",
   "metadata": {},
   "source": [
    "res.append(xgboost_classification(enc_trainX, trainY, enc_testX, testY))"
   ]
  },
  {
   "cell_type": "markdown",
   "id": "3236070b",
   "metadata": {},
   "source": [
    "def plot_results(results_list):\n",
    "    accuracy_scores = []\n",
    "    precision_scores = []\n",
    "    recall_scores = []\n",
    "    f1_scores = []\n",
    "    \n",
    "    for result in results_list:\n",
    "        accuracy_scores.append(result['accuracy'])\n",
    "        report = result['classification_report']\n",
    "        precision_scores.append(report['weighted avg']['precision'])\n",
    "        recall_scores.append(report['weighted avg']['recall'])\n",
    "        f1_scores.append(report['weighted avg']['f1-score'])\n",
    "    \n",
    "    # Plot accuracy scores\n",
    "    plt.figure(figsize=(8, 4))\n",
    "    plt.bar(range(len(accuracy_scores)), accuracy_scores, color='skyblue')\n",
    "    plt.xlabel('Experiment')\n",
    "    plt.ylabel('Accuracy')\n",
    "    plt.title('Accuracy Scores')\n",
    "    plt.xticks(range(len(accuracy_scores)))\n",
    "    plt.show()\n",
    "    \n",
    "    # Plot precision, recall, and f1-scores\n",
    "    plt.figure(figsize=(10, 6))\n",
    "    sns.lineplot(x=range(len(precision_scores)), y=precision_scores, label='Precision')\n",
    "    sns.lineplot(x=range(len(recall_scores)), y=recall_scores, label='Recall')\n",
    "    sns.lineplot(x=range(len(f1_scores)), y=f1_scores, label='F1-score')\n",
    "    plt.xlabel('Experiment')\n",
    "    plt.ylabel('Score')\n",
    "    plt.title('Precision, Recall, and F1-score')\n",
    "    plt.legend()\n",
    "    plt.xticks(range(len(precision_scores)))\n",
    "    plt.show()\n"
   ]
  },
  {
   "cell_type": "markdown",
   "id": "c7d31069",
   "metadata": {},
   "source": [
    "plot_results(res)"
   ]
  },
  {
   "cell_type": "markdown",
   "id": "debd0ea2",
   "metadata": {},
   "source": [
    "# CROSS VALIDATION FOR HYPER PARAMETER TUNING"
   ]
  },
  {
   "cell_type": "code",
   "execution_count": 23,
   "id": "57e62ed4",
   "metadata": {},
   "outputs": [],
   "source": [
    "from sklearn.model_selection import GridSearchCV, KFold\n",
    "from sklearn.metrics import accuracy_score, classification_report\n",
    "\n",
    "def model_with_cross_validation(model, params, trainX, trainY, testX, testY, cv=5):\n",
    "    \"\"\"\n",
    "    Perform modeling using k-fold cross-validation and hyperparameter tuning.\n",
    "    \n",
    "    Parameters:\n",
    "        model: Classifier object (e.g., RandomForestClassifier, SVC, etc.).\n",
    "        params: Dictionary containing hyperparameters to tune.\n",
    "        trainX (DataFrame or array-like): Features for training.\n",
    "        trainY (Series or array-like): Target variable for training.\n",
    "        testX (DataFrame or array-like): Features for testing.\n",
    "        testY (Series or array-like): Target variable for testing.\n",
    "        cv (int or cross-validation generator, optional): Determines the cross-validation strategy. Default is 5.\n",
    "        \n",
    "    Returns:\n",
    "        dict: Dictionary containing accuracy score and classification report.\n",
    "    \"\"\"\n",
    "    label_encoder = LabelEncoder()\n",
    "    trainY_encoded = label_encoder.fit_transform(trainY)\n",
    "    testY_encoded = label_encoder.transform(testY)\n",
    "    # Create KFold cross-validation object\n",
    "    kfold = KFold(n_splits=cv, shuffle=True, random_state=42)\n",
    "    \n",
    "    # Perform hyperparameter tuning using GridSearchCV with verbose output\n",
    "    grid_search = GridSearchCV(model, params, cv=kfold, scoring='accuracy', n_jobs=-1, verbose=2)\n",
    "    grid_search.fit(trainX, trainY_encoded)\n",
    "    \n",
    "    # Get the best model\n",
    "    best_model = grid_search.best_estimator_\n",
    "    \n",
    "    # Make predictions on the testing set\n",
    "    testY_pred = best_model.predict(testX)\n",
    "    \n",
    "    # Calculate accuracy score\n",
    "    accuracy = accuracy_score(testY_encoded, testY_pred)\n",
    "    \n",
    "    # Generate classification report\n",
    "    report = classification_report(testY_encoded, testY_pred, output_dict=True)\n",
    "    \n",
    "    results = {\n",
    "        'accuracy': accuracy,\n",
    "        'classification_report': report,\n",
    "        'best_model': best_model\n",
    "    }\n",
    "    \n",
    "    return results\n",
    "\n",
    "# Usage remains the same for each classification method..."
   ]
  },
  {
   "cell_type": "markdown",
   "id": "5a381e70",
   "metadata": {},
   "source": [
    "model = RandomForestClassifier()\n",
    "param_grid = {\n",
    "    'n_estimators': [25, 50, 100, 150],\n",
    "    'max_depth': [None, 3, 6, 9],\n",
    "    'max_features': ['sqrt', 'log2', None],\n",
    "    'max_leaf_nodes': [3, 6, 9]\n",
    "}"
   ]
  },
  {
   "cell_type": "markdown",
   "id": "21ee1c72",
   "metadata": {},
   "source": [
    "model = DecisionTreeClassifier()\n",
    "params = {\n",
    "    'max_depth': [None, 5, 10],\n",
    "    'min_samples_split': [2, 5, 10],\n",
    "    'min_samples_leaf': [1, 2, 4],\n",
    "    'max_features': ['sqrt', 'log2'],\n",
    "    'criterion': ['gini', 'entropy']\n",
    "}\n",
    "# results = model_with_cross_validation(model, params, enc_trainX, trainY, enc_testX, testY, cv=3)\n",
    "print(results['accuracy'])\n",
    "print(results['classification_report'])\n",
    "print(results['best_model'])"
   ]
  },
  {
   "cell_type": "markdown",
   "id": "60c721a3",
   "metadata": {},
   "source": [
    "model = XGBClassifier()\n",
    "xgb_param_grid = {\n",
    "    \"learning_rate\": [0.05, 0.10, 0.15, 0.20, 0.25],\n",
    "    \"max_depth\": [5, 10, 15],\n",
    "    \"min_child_weight\": [1, 3, 5],\n",
    "    \"gamma\": [0.0, 0.1, 0.3, 0.4],\n",
    "    \"colsample_bytree\": [0.3, 0.5, 0.7]\n",
    "}\n",
    "# results = model_with_cross_validation(model, xgb_param_grid, enc_trainX, trainY, enc_testX, testY, cv=3)\n",
    "print(results['accuracy'])\n",
    "print(results['classification_report'])\n",
    "print(results['best_model'])"
   ]
  },
  {
   "cell_type": "markdown",
   "id": "70696491",
   "metadata": {},
   "source": [
    "import sys\n",
    "print(results['best_model'])"
   ]
  },
  {
   "cell_type": "code",
   "execution_count": null,
   "id": "176c4dbd",
   "metadata": {},
   "outputs": [],
   "source": []
  },
  {
   "cell_type": "code",
   "execution_count": 24,
   "id": "f4d9ea7b",
   "metadata": {},
   "outputs": [
    {
     "data": {
      "text/plain": [
       "{'accuracy': 0.4427974488673851,\n",
       " 'classification_report': {'0': {'precision': 0.5377415199656504,\n",
       "   'recall': 0.5993491577335375,\n",
       "   'f1-score': 0.5668763861856697,\n",
       "   'support': 10448.0},\n",
       "  '1': {'precision': 0.3876136188568787,\n",
       "   'recall': 0.36880680152447964,\n",
       "   'f1-score': 0.37797641403139787,\n",
       "   'support': 6822.0},\n",
       "  '2': {'precision': 0.28027832137421177,\n",
       "   'recall': 0.23586459286367795,\n",
       "   'f1-score': 0.2561605723370429,\n",
       "   'support': 5465.0},\n",
       "  'accuracy': 0.4427974488673851,\n",
       "  'macro avg': {'precision': 0.4018778200655803,\n",
       "   'recall': 0.40134018404056504,\n",
       "   'f1-score': 0.4003377908513701,\n",
       "   'support': 22735.0},\n",
       "  'weighted avg': {'precision': 0.43080468593590543,\n",
       "   'recall': 0.4427974488673851,\n",
       "   'f1-score': 0.43550460115293654,\n",
       "   'support': 22735.0}}}"
      ]
     },
     "execution_count": 24,
     "metadata": {},
     "output_type": "execute_result"
    }
   ],
   "source": [
    "random_forest_classification(enc_trainX, trainY, enc_testX, testY)"
   ]
  },
  {
   "cell_type": "code",
   "execution_count": 25,
   "id": "1fd32549",
   "metadata": {},
   "outputs": [
    {
     "data": {
      "text/plain": [
       "{'accuracy': 0.45779634924125795,\n",
       " 'classification_report': {'0': {'precision': 0.51586859688196,\n",
       "   'recall': 0.7094180704441041,\n",
       "   'f1-score': 0.5973565441650548,\n",
       "   'support': 10448.0},\n",
       "  '1': {'precision': 0.39048917675132094,\n",
       "   'recall': 0.3358252711814717,\n",
       "   'f1-score': 0.36110016549767515,\n",
       "   'support': 6822.0},\n",
       "  '2': {'precision': 0.282,\n",
       "   'recall': 0.12900274473924978,\n",
       "   'f1-score': 0.17702448210922786,\n",
       "   'support': 5465.0},\n",
       "  'accuracy': 0.45779634924125795,\n",
       "  'macro avg': {'precision': 0.3961192578777603,\n",
       "   'recall': 0.39141536212160855,\n",
       "   'f1-score': 0.3784937305906526,\n",
       "   'support': 22735.0},\n",
       "  'weighted avg': {'precision': 0.4220295695632385,\n",
       "   'recall': 0.45779634924125795,\n",
       "   'f1-score': 0.4254253484578211,\n",
       "   'support': 22735.0}}}"
      ]
     },
     "execution_count": 25,
     "metadata": {},
     "output_type": "execute_result"
    }
   ],
   "source": [
    "knn_classification(enc_trainX, trainY, enc_testX, testY)"
   ]
  },
  {
   "cell_type": "code",
   "execution_count": 26,
   "id": "f074001e",
   "metadata": {},
   "outputs": [
    {
     "data": {
      "text/plain": [
       "{'accuracy': 0.4977787552232241,\n",
       " 'classification_report': {'0': {'precision': 0.5055917480998914,\n",
       "   'recall': 0.8913667687595712,\n",
       "   'f1-score': 0.6452126922543994,\n",
       "   'support': 10448.0},\n",
       "  '1': {'precision': 0.46900072939460247,\n",
       "   'recall': 0.2827616534740545,\n",
       "   'f1-score': 0.35281207133058984,\n",
       "   'support': 6822.0},\n",
       "  '2': {'precision': 0.3712871287128713,\n",
       "   'recall': 0.013723696248856358,\n",
       "   'f1-score': 0.026469031233456855,\n",
       "   'support': 5465.0},\n",
       "  'accuracy': 0.4977787552232241,\n",
       "  'macro avg': {'precision': 0.44862653540245506,\n",
       "   'recall': 0.39595070616082734,\n",
       "   'f1-score': 0.34149793160614866,\n",
       "   'support': 22735.0},\n",
       "  'weighted avg': {'precision': 0.46232811605425495,\n",
       "   'recall': 0.4977787552232241,\n",
       "   'f1-score': 0.4087406824271868,\n",
       "   'support': 22735.0}}}"
      ]
     },
     "execution_count": 26,
     "metadata": {},
     "output_type": "execute_result"
    }
   ],
   "source": [
    "gbm_classification(enc_trainX, trainY, enc_testX, testY)"
   ]
  },
  {
   "cell_type": "code",
   "execution_count": 27,
   "id": "13bdd46d",
   "metadata": {},
   "outputs": [
    {
     "data": {
      "text/plain": [
       "{'accuracy': 0.3304596437211348,\n",
       " 'classification_report': {'0': {'precision': 0.5705229793977813,\n",
       "   'recall': 0.10336906584992343,\n",
       "   'f1-score': 0.1750263349809578,\n",
       "   'support': 10448.0},\n",
       "  '1': {'precision': 0.30868663483335745,\n",
       "   'recall': 0.9381413075344474,\n",
       "   'f1-score': 0.46452549446561425,\n",
       "   'support': 6822.0},\n",
       "  '2': {'precision': 0.30275229357798167,\n",
       "   'recall': 0.006038426349496798,\n",
       "   'f1-score': 0.011840688912809472,\n",
       "   'support': 5465.0},\n",
       "  'accuracy': 0.3304596437211348,\n",
       "  'macro avg': {'precision': 0.3939873026030401,\n",
       "   'recall': 0.3491829332446225,\n",
       "   'f1-score': 0.21713083945312717,\n",
       "   'support': 22735.0},\n",
       "  'weighted avg': {'precision': 0.42758854611765357,\n",
       "   'recall': 0.3304596437211348,\n",
       "   'f1-score': 0.2226688997595765,\n",
       "   'support': 22735.0}}}"
      ]
     },
     "execution_count": 27,
     "metadata": {},
     "output_type": "execute_result"
    }
   ],
   "source": [
    "naive_bayes_classification(enc_trainX, trainY, enc_testX, testY)"
   ]
  },
  {
   "cell_type": "code",
   "execution_count": 28,
   "id": "45d17434",
   "metadata": {},
   "outputs": [
    {
     "name": "stderr",
     "output_type": "stream",
     "text": [
      "/home/numan947/anaconda3/envs/mldl/lib/python3.9/site-packages/sklearn/ensemble/_weight_boosting.py:519: FutureWarning: The SAMME.R algorithm (the default) is deprecated and will be removed in 1.6. Use the SAMME algorithm to circumvent this warning.\n",
      "  warnings.warn(\n"
     ]
    },
    {
     "data": {
      "text/plain": [
       "{'accuracy': 0.487222344402903,\n",
       " 'classification_report': {'0': {'precision': 0.5024043838067547,\n",
       "   'recall': 0.8599732006125574,\n",
       "   'f1-score': 0.63426514188903,\n",
       "   'support': 10448.0},\n",
       "  '1': {'precision': 0.4315326633165829,\n",
       "   'recall': 0.3021108179419525,\n",
       "   'f1-score': 0.355406104500776,\n",
       "   'support': 6822.0},\n",
       "  '2': {'precision': 0.41333333333333333,\n",
       "   'recall': 0.005672461116193962,\n",
       "   'f1-score': 0.011191335740072202,\n",
       "   'support': 5465.0},\n",
       "  'accuracy': 0.487222344402903,\n",
       "  'macro avg': {'precision': 0.4490901268188903,\n",
       "   'recall': 0.3892521598902347,\n",
       "   'f1-score': 0.3336208607099594,\n",
       "   'support': 22735.0},\n",
       "  'weighted avg': {'precision': 0.45972744657248155,\n",
       "   'recall': 0.487222344402903,\n",
       "   'f1-score': 0.40081562776249724,\n",
       "   'support': 22735.0}}}"
      ]
     },
     "execution_count": 28,
     "metadata": {},
     "output_type": "execute_result"
    }
   ],
   "source": [
    "adaboost_classification(enc_trainX, trainY, enc_testX, testY)"
   ]
  },
  {
   "cell_type": "code",
   "execution_count": null,
   "id": "e0d98764",
   "metadata": {},
   "outputs": [],
   "source": []
  },
  {
   "cell_type": "markdown",
   "id": "0b314e98",
   "metadata": {},
   "source": [
    "# FINAL MODEL FOR THE FIRST STEP"
   ]
  },
  {
   "cell_type": "code",
   "execution_count": 29,
   "id": "e09bb493",
   "metadata": {},
   "outputs": [],
   "source": [
    "import shap"
   ]
  },
  {
   "cell_type": "code",
   "execution_count": 30,
   "id": "ab6d4f16",
   "metadata": {
    "scrolled": true
   },
   "outputs": [
    {
     "name": "stdout",
     "output_type": "stream",
     "text": [
      "{'accuracy': 0.4548933362656697, 'classification_report': {'0': {'precision': 0.522151429841458, 'recall': 0.6745788667687596, 'f1-score': 0.5886578134135138, 'support': 10448.0}, '1': {'precision': 0.3978978978978979, 'recall': 0.3496042216358839, 'f1-score': 0.37219101123595505, 'support': 6822.0}, '2': {'precision': 0.2802960222016651, 'recall': 0.16633119853613906, 'f1-score': 0.20877354157096922, 'support': 5465.0}, 'accuracy': 0.4548933362656697, 'macro avg': {'precision': 0.400115116647007, 'recall': 0.3968380956469275, 'f1-score': 0.3898741220734794, 'support': 22735.0}, 'weighted avg': {'precision': 0.4267303874983555, 'recall': 0.4548933362656697, 'f1-score': 0.4323875662142698, 'support': 22735.0}}}\n"
     ]
    }
   ],
   "source": [
    "model = DecisionTreeClassifier(criterion='entropy', max_features='log2')\n",
    "res = fit_and_evaluate(model, enc_trainX, trainY, enc_testX, testY)\n",
    "print(res)"
   ]
  },
  {
   "cell_type": "code",
   "execution_count": 31,
   "id": "b5aad525",
   "metadata": {},
   "outputs": [
    {
     "name": "stdout",
     "output_type": "stream",
     "text": [
      "{'accuracy': 0.44517264130195733, 'classification_report': {'0': {'precision': 0.5386434665089956, 'recall': 0.6103560490045942, 'f1-score': 0.5722618566877552, 'support': 10448.0}, '1': {'precision': 0.387006090894893, 'recall': 0.36323658751099386, 'f1-score': 0.37474480151228734, 'support': 6822.0}, '2': {'precision': 0.2817716447807701, 'recall': 0.23165599268069534, 'f1-score': 0.25426792528620207, 'support': 5465.0}, 'accuracy': 0.44517264130195733, 'macro avg': {'precision': 0.40247373406155296, 'recall': 0.4017495430654278, 'f1-score': 0.40042486116208154, 'support': 22735.0}, 'weighted avg': {'precision': 0.43139584468431297, 'recall': 0.44517264130195733, 'f1-score': 0.4365548768981564, 'support': 22735.0}}}\n"
     ]
    }
   ],
   "source": [
    "model = RandomForestClassifier(n_estimators=300)\n",
    "res = fit_and_evaluate(model, enc_trainX, trainY, enc_testX, testY)\n",
    "print(res)"
   ]
  },
  {
   "cell_type": "code",
   "execution_count": 32,
   "id": "b2173868",
   "metadata": {},
   "outputs": [
    {
     "name": "stdout",
     "output_type": "stream",
     "text": [
      "{'accuracy': 0.5101385528920167, 'classification_report': {'0': {'precision': 0.5336762184668136, 'recall': 0.8342266462480857, 'f1-score': 0.6509335324869305, 'support': 10448.0}, '1': {'precision': 0.46713260294673215, 'recall': 0.3625036646144826, 'f1-score': 0.4082205348299769, 'support': 6822.0}, '2': {'precision': 0.36880072137060416, 'recall': 0.07483989021043001, 'f1-score': 0.12442957103742014, 'support': 5465.0}, 'accuracy': 0.5101385528920167, 'macro avg': {'precision': 0.4565365142613833, 'recall': 0.42385673369099935, 'f1-score': 0.3945278794514426, 'support': 22735.0}, 'weighted avg': {'precision': 0.4740762564387168, 'recall': 0.5101385528920167, 'f1-score': 0.4515435074446032, 'support': 22735.0}}}\n"
     ]
    }
   ],
   "source": [
    "model = XGBClassifier(\n",
    "    colsample_bytree=0.7,enable_categorical=True,\n",
    "    gamma=0.0, learning_rate=0.01, max_depth=17, \n",
    "    min_child_weight=7,n_estimators=200,\n",
    "    n_jobs=20,objective='multi:softprob')\n",
    "res = fit_and_evaluate(model, enc_trainX, trainY, enc_testX, testY)\n",
    "print(res)"
   ]
  },
  {
   "cell_type": "code",
   "execution_count": null,
   "id": "9c7735da",
   "metadata": {},
   "outputs": [],
   "source": []
  },
  {
   "cell_type": "code",
   "execution_count": 33,
   "id": "f3e31b1f",
   "metadata": {},
   "outputs": [],
   "source": [
    "import numpy as np\n",
    "from sklearn.metrics import accuracy_score, classification_report\n",
    "from sklearn.preprocessing import LabelEncoder\n",
    "\n",
    "def fit_and_evaluate_voting(voting_classifier, trainX, trainY, testX, testY):\n",
    "    # Convert string labels to integers\n",
    "    label_encoder = LabelEncoder()\n",
    "    trainY_encoded = label_encoder.fit_transform(trainY)\n",
    "    testY_encoded = label_encoder.transform(testY)\n",
    "    \n",
    "    # Fit the VotingClassifier\n",
    "    voting_classifier.fit(trainX, trainY_encoded)\n",
    "    \n",
    "    # Make predictions\n",
    "    testY_pred = voting_classifier.predict(testX)\n",
    "    \n",
    "    # Calculate accuracy score\n",
    "    accuracy = accuracy_score(testY_encoded, testY_pred)\n",
    "    \n",
    "    # Generate classification report\n",
    "    report = classification_report(testY_encoded, testY_pred, target_names=label_encoder.classes_, output_dict=True)\n",
    "    \n",
    "    results = {\n",
    "        'accuracy': accuracy,\n",
    "        'classification_report': report,\n",
    "        'voting_classifier': voting_classifier\n",
    "    }\n",
    "    \n",
    "    return results"
   ]
  },
  {
   "cell_type": "code",
   "execution_count": 49,
   "id": "74ab7c24",
   "metadata": {},
   "outputs": [],
   "source": [
    "from sklearn.ensemble import VotingClassifier\n",
    "\n",
    "lr = LogisticRegression(penalty='l2', C=50, max_iter=1500, solver='saga')\n",
    "ada = AdaBoostClassifier(n_estimators=120, learning_rate=1.0)\n",
    "gbm = GradientBoostingClassifier(n_estimators=150, subsample=0.7, learning_rate=0.08)\n",
    "xgb = XGBClassifier(\n",
    "    colsample_bytree=0.7,enable_categorical=True,\n",
    "    gamma=0.0, learning_rate=0.01, max_depth=17, \n",
    "    min_child_weight=7,n_estimators=200,\n",
    "    n_jobs=20,objective='multi:softprob')\n",
    "\n",
    "res = fit_and_evaluate(model, enc_trainX, trainY, enc_testX, testY)\n",
    "\n",
    "votingCLF = VotingClassifier(estimators=[('rf', gbm), ('dt', ada), ('xgb', xgb), ('lr', lr)], voting='soft', weights=[3,5,8,4])\n",
    "# fit_and_evaluate_voting(votingCLF, enc_trainX, trainY, enc_testX, testY)"
   ]
  },
  {
   "cell_type": "code",
   "execution_count": 50,
   "id": "da6abc19",
   "metadata": {},
   "outputs": [],
   "source": [
    "trainX[:20].to_csv(\"final_pred_list.csv\", index=False)"
   ]
  },
  {
   "cell_type": "code",
   "execution_count": 51,
   "id": "0fa92e27",
   "metadata": {},
   "outputs": [],
   "source": [
    "final_pred = pd.read_csv(\"./CIS662_FIRST_TASK_INPUTS.csv\")"
   ]
  },
  {
   "cell_type": "code",
   "execution_count": 52,
   "id": "acfe477a",
   "metadata": {},
   "outputs": [],
   "source": [
    "scl_final_pred = pd.DataFrame(scaler.transform(final_pred), index=final_pred.index, columns=final_pred.columns)"
   ]
  },
  {
   "cell_type": "code",
   "execution_count": 54,
   "id": "78ea79bb",
   "metadata": {},
   "outputs": [],
   "source": [
    "# Convert string labels to integers\n",
    "label_encoder = LabelEncoder()\n",
    "trainY_encoded = label_encoder.fit_transform(trainY)\n",
    "testY_encoded = label_encoder.transform(testY)\n",
    "\n",
    "# Fit the VotingClassifier\n",
    "# votingCLF.fit(enc_trainX, trainY_encoded)\n",
    "\n",
    "# Make predictions\n",
    "testY_pred = votingCLF.predict(enc_testX)\n",
    "\n",
    "# Calculate accuracy score\n",
    "accuracy = accuracy_score(testY_encoded, testY_pred)\n",
    "\n",
    "# Generate classification report\n",
    "report = classification_report(testY_encoded, testY_pred, target_names=label_encoder.classes_, output_dict=True)"
   ]
  },
  {
   "cell_type": "code",
   "execution_count": 55,
   "id": "7f3ed761",
   "metadata": {},
   "outputs": [
    {
     "data": {
      "text/plain": [
       "{'EARLY': {'precision': 0.5233526011560694,\n",
       "  'recall': 0.8665773353751914,\n",
       "  'f1-score': 0.6525875738791985,\n",
       "  'support': 10448.0},\n",
       " 'LATE': {'precision': 0.4694741084021761,\n",
       "  'recall': 0.34154206977425977,\n",
       "  'f1-score': 0.39541790411540095,\n",
       "  'support': 6822.0},\n",
       " 'ONTIME': {'precision': 0.3983050847457627,\n",
       "  'recall': 0.0344007319304666,\n",
       "  'f1-score': 0.06333164898096681,\n",
       "  'support': 5465.0},\n",
       " 'accuracy': 0.5089949417198153,\n",
       " 'macro avg': {'precision': 0.4637105981013361,\n",
       "  'recall': 0.4141733790266393,\n",
       "  'f1-score': 0.3704457089918554,\n",
       "  'support': 22735.0},\n",
       " 'weighted avg': {'precision': 0.477126792721964,\n",
       "  'recall': 0.5089949417198153,\n",
       "  'f1-score': 0.4337753848887668,\n",
       "  'support': 22735.0}}"
      ]
     },
     "execution_count": 55,
     "metadata": {},
     "output_type": "execute_result"
    }
   ],
   "source": [
    "report"
   ]
  },
  {
   "cell_type": "code",
   "execution_count": 56,
   "id": "1b8d5720",
   "metadata": {},
   "outputs": [
    {
     "name": "stdout",
     "output_type": "stream",
     "text": [
      "0.5089949417198153\n"
     ]
    }
   ],
   "source": [
    "print(accuracy)"
   ]
  },
  {
   "cell_type": "code",
   "execution_count": 58,
   "id": "53971c7d",
   "metadata": {},
   "outputs": [
    {
     "data": {
      "text/plain": [
       "array([0, 0, 0, 0, 0, 0, 0, 0, 1, 0, 0, 0])"
      ]
     },
     "execution_count": 58,
     "metadata": {},
     "output_type": "execute_result"
    }
   ],
   "source": [
    "votingCLF.predict(scl_final_pred)"
   ]
  },
  {
   "cell_type": "code",
   "execution_count": 59,
   "id": "fe3e51c2",
   "metadata": {},
   "outputs": [
    {
     "data": {
      "text/plain": [
       "array(['EARLY', 'EARLY', 'EARLY', 'EARLY', 'EARLY', 'EARLY', 'EARLY',\n",
       "       'EARLY', 'LATE', 'EARLY', 'EARLY', 'EARLY'], dtype=object)"
      ]
     },
     "execution_count": 59,
     "metadata": {},
     "output_type": "execute_result"
    }
   ],
   "source": [
    "label_encoder.inverse_transform(votingCLF.predict(scl_final_pred))"
   ]
  },
  {
   "cell_type": "code",
   "execution_count": 60,
   "id": "cac76f5e",
   "metadata": {},
   "outputs": [
    {
     "data": {
      "text/plain": [
       "array(['EARLY', 'LATE', 'ONTIME'], dtype=object)"
      ]
     },
     "execution_count": 60,
     "metadata": {},
     "output_type": "execute_result"
    }
   ],
   "source": [
    "label_encoder.classes_"
   ]
  },
  {
   "cell_type": "code",
   "execution_count": null,
   "id": "b8bc7234",
   "metadata": {},
   "outputs": [],
   "source": []
  },
  {
   "cell_type": "code",
   "execution_count": null,
   "id": "f086fc99",
   "metadata": {},
   "outputs": [],
   "source": []
  },
  {
   "cell_type": "markdown",
   "id": "5b1ca8a9",
   "metadata": {},
   "source": [
    "# # Processing For Prediction Starts Here -- TARGET IS NUMERIC"
   ]
  },
  {
   "cell_type": "markdown",
   "id": "2621e4f9",
   "metadata": {},
   "source": [
    "data = pd.read_csv(\"INITIAL_PROCESSED_DATA_NUMERIC.csv\")"
   ]
  },
  {
   "cell_type": "markdown",
   "id": "f0538a42",
   "metadata": {},
   "source": [
    "data.head()"
   ]
  },
  {
   "cell_type": "markdown",
   "id": "05618636",
   "metadata": {},
   "source": [
    "data['SCHED_ARRV_TIME_CAT'] = data['Scheduled Arrival Time'].apply(convert_to_categorical)\n",
    "df = data.drop(columns=['Date (MM/DD/YYYY)', 'Flight Number','Tail Number', 'Scheduled Arrival Time'])"
   ]
  },
  {
   "cell_type": "markdown",
   "id": "bf36b619",
   "metadata": {},
   "source": [
    "df.head()"
   ]
  },
  {
   "cell_type": "markdown",
   "id": "72e348d7",
   "metadata": {},
   "source": [
    "from sklearn.base import BaseEstimator, TransformerMixin\n",
    "from sklearn.preprocessing import OneHotEncoder\n",
    "\n",
    "class MultiColumnOneHotEncoder(BaseEstimator, TransformerMixin):\n",
    "    def __init__(self, columns=None):\n",
    "        self.columns = columns\n",
    "        self.encoder = None\n",
    "\n",
    "    def fit(self, X, y=None):\n",
    "        self.encoder = OneHotEncoder(sparse_output=False, drop='first')\n",
    "        self.encoder.fit(X[self.columns])\n",
    "        return self\n",
    "\n",
    "    def transform(self, X):\n",
    "        X_encoded = X.copy()\n",
    "        encoded_data = self.encoder.transform(X[self.columns])\n",
    "        encoded_df = pd.DataFrame(encoded_data, columns=self.encoder.get_feature_names_out(self.columns), index=X.index)\n",
    "        \n",
    "        # Drop the original columns\n",
    "        X_encoded = X_encoded.drop(columns=self.columns)\n",
    "        \n",
    "        # Concatenate the encoded DataFrame with the original DataFrame, preserving the index\n",
    "        X_encoded = pd.concat([X_encoded, encoded_df], axis=1)\n",
    "        return X_encoded\n",
    "\n",
    "    def fit_transform(self, X, y=None):\n",
    "        self.fit(X)\n",
    "        return self.transform(X)"
   ]
  },
  {
   "cell_type": "markdown",
   "id": "e2602859",
   "metadata": {},
   "source": [
    "df.columns"
   ]
  },
  {
   "cell_type": "markdown",
   "id": "ac5fad08",
   "metadata": {},
   "source": [
    "encoder = MultiColumnOneHotEncoder(columns=['Carrier Code', 'Origin Airport','season', 'SCHED_ARRV_TIME_CAT'])"
   ]
  },
  {
   "cell_type": "markdown",
   "id": "1e37334d",
   "metadata": {},
   "source": [
    "encoded_data = encoder.fit_transform(df.drop(columns=['Arrival Delay (Minutes)']))\n",
    "\n",
    "trainX, testX, trainY, testY = train_test_split(\n",
    "    encoded_data,\n",
    "    df['Arrival Delay (Minutes)'], \n",
    "    test_size=0.2, \n",
    "    random_state=947,\n",
    ")"
   ]
  },
  {
   "cell_type": "markdown",
   "id": "e2701b12",
   "metadata": {},
   "source": [
    "trainX"
   ]
  },
  {
   "cell_type": "markdown",
   "id": "6d62167f",
   "metadata": {},
   "source": [
    "scaler = StandardScaler()\n",
    "enc_trainX = pd.DataFrame(scaler.fit_transform(trainX), index=trainX.index, columns=trainX.columns)\n",
    "enc_testX = pd.DataFrame(scaler.transform(testX), index=testX.index, columns=testX.columns)"
   ]
  },
  {
   "cell_type": "markdown",
   "id": "05d6aba5",
   "metadata": {},
   "source": [
    "trainY"
   ]
  },
  {
   "cell_type": "markdown",
   "id": "b9db2757",
   "metadata": {},
   "source": [
    "from sklearn.metrics import mean_squared_error, r2_score\n",
    "from sklearn.model_selection import train_test_split\n",
    "\n",
    "def fit_and_evaluate_regression(model, trainX, trainY, testX, testY):\n",
    "    model.fit(trainX, trainY)\n",
    "    testY_pred = model.predict(testX)\n",
    "    mse = mean_squared_error(testY, testY_pred)\n",
    "    r2 = r2_score(testY, testY_pred)\n",
    "    results = {'mean_squared_error': mse, 'r2_score': r2}\n",
    "    return results\n",
    "\n",
    "# Random Forest for Regression\n",
    "from sklearn.ensemble import RandomForestRegressor\n",
    "\n",
    "def random_forest_regression(trainX, trainY, testX, testY, n_estimators=300, criterion='friedman_mse', max_depth=30):\n",
    "    model = RandomForestRegressor(n_estimators=n_estimators, criterion=criterion, max_depth=max_depth)\n",
    "    return fit_and_evaluate_regression(model, trainX, trainY, testX, testY), model\n",
    "\n",
    "# Support Vector Machines (SVM) for Regression\n",
    "from sklearn.svm import SVR\n",
    "\n",
    "def svm_regression(trainX, trainY, testX, testY, kernel='rbf', C=1.0):\n",
    "    model = SVR(kernel=kernel, C=C)\n",
    "    return fit_and_evaluate_regression(model, trainX, trainY, testX, testY), model\n",
    "\n",
    "# K-Nearest Neighbors (KNN) for Regression\n",
    "from sklearn.neighbors import KNeighborsRegressor\n",
    "\n",
    "def knn_regression(trainX, trainY, testX, testY, n_neighbors=20):\n",
    "    model = KNeighborsRegressor(n_neighbors=n_neighbors)\n",
    "    return fit_and_evaluate_regression(model, trainX, trainY, testX, testY), model\n",
    "\n",
    "# Gradient Boosting Machines (GBM) for Regression\n",
    "from sklearn.ensemble import GradientBoostingRegressor\n",
    "\n",
    "def gbm_regression(trainX, trainY, testX, testY, n_estimators=200, learning_rate=0.5, max_depth=20):\n",
    "    model = GradientBoostingRegressor(n_estimators=n_estimators, learning_rate=learning_rate, max_depth=max_depth)\n",
    "    return fit_and_evaluate_regression(model, trainX, trainY, testX, testY), model\n",
    "\n",
    "# Naive Bayes is not applicable for regression tasks\n",
    "# AdaBoost is not directly applicable for regression tasks\n",
    "\n",
    "# XGBoost for Regression\n",
    "from xgboost import XGBRegressor\n",
    "\n",
    "def xgboost_regression(trainX, trainY, testX, testY, n_estimators=200, learning_rate=0.6, max_depth=30):\n",
    "    model = XGBRegressor(n_estimators=n_estimators, learning_rate=learning_rate, max_depth=max_depth)\n",
    "    return fit_and_evaluate_regression(model, trainX, trainY, testX, testY), model\n",
    "\n",
    "from sklearn.tree import DecisionTreeRegressor\n",
    "\n",
    "def decision_tree_regression(trainX, trainY, testX, testY, criterion='friedman_mse', max_depth=30):\n",
    "    model = DecisionTreeRegressor(criterion=criterion, max_depth=max_depth)\n",
    "    return fit_and_evaluate_regression(model, trainX, trainY, testX, testY), model"
   ]
  },
  {
   "cell_type": "markdown",
   "id": "ba6a8e6a",
   "metadata": {},
   "source": [
    "from sklearn.metrics import accuracy_score, classification_report\n",
    "def evaluate_preds(testY, testY_pred):\n",
    "    accuracy = accuracy_score(testY, testY_pred)\n",
    "    report = classification_report(testY, testY_pred, output_dict=True)\n",
    "    results = {'accuracy': accuracy, 'classification_report': report}\n",
    "    return results"
   ]
  },
  {
   "cell_type": "markdown",
   "id": "f08b84c0",
   "metadata": {},
   "source": [
    "def create_final_preds(predicted_values):\n",
    "    categorical_values = []\n",
    "    for val in predicted_values:\n",
    "        # Customize the conditions based on your requirement\n",
    "        if abs(val) <= 5:\n",
    "            categorical_values.append('ONTIME')\n",
    "        elif val < -5:\n",
    "            categorical_values.append('EARLY')\n",
    "        elif val > 5:\n",
    "            categorical_values.append('LATE')\n",
    "        else:\n",
    "            print(\"THIS SHOULDN't HAPPEN\")\n",
    "    \n",
    "    return categorical_values"
   ]
  },
  {
   "cell_type": "markdown",
   "id": "343763f3",
   "metadata": {},
   "source": [
    "res, model = random_forest_regression(enc_trainX, trainY, enc_testX, testY)\n",
    "\n",
    "predicte_delay = model.predict(enc_testX)\n",
    "\n",
    "preds = create_final_preds(predicte_delay)\n",
    "acutal = create_final_preds(testY.values)\n",
    "\n",
    "e = evaluate_preds(acutal, preds)\n",
    "print(e)"
   ]
  },
  {
   "cell_type": "markdown",
   "id": "905d0c4c",
   "metadata": {},
   "source": [
    "res, model = decision_tree_regression(enc_trainX, trainY, enc_testX, testY)\n",
    "\n",
    "predicte_delay = model.predict(enc_testX)\n",
    "\n",
    "preds = create_final_preds(predicte_delay)\n",
    "acutal = create_final_preds(testY.values)\n",
    "\n",
    "e = evaluate_preds(acutal, preds)\n",
    "print(e)"
   ]
  },
  {
   "cell_type": "markdown",
   "id": "48c94a23",
   "metadata": {},
   "source": [
    "res, model = xgboost_regression(enc_trainX, trainY, enc_testX, testY)\n",
    "\n",
    "predicte_delay = model.predict(enc_testX)\n",
    "\n",
    "preds = create_final_preds(predicte_delay)\n",
    "acutal = create_final_preds(testY.values)\n",
    "\n",
    "e = evaluate_preds(acutal, preds)\n",
    "print(e)"
   ]
  },
  {
   "cell_type": "markdown",
   "id": "d83a59be",
   "metadata": {},
   "source": [
    "res, model = gbm_regression(enc_trainX, trainY, enc_testX, testY)\n",
    "\n",
    "predicte_delay = model.predict(enc_testX)\n",
    "\n",
    "preds = create_final_preds(predicte_delay)\n",
    "acutal = create_final_preds(testY.values)\n",
    "\n",
    "e = evaluate_preds(acutal, preds)\n",
    "print(e)"
   ]
  },
  {
   "cell_type": "markdown",
   "id": "4ae46db0",
   "metadata": {},
   "source": [
    "from sklearn.ensemble import VotingRegressor\n",
    "\n",
    "# Define multiple classifiers\n",
    "rf_classifier = RandomForestRegressor(n_estimators=300, max_features='log2', max_depth=30, criterion='friedman_mse')\n",
    "DT = DecisionTreeRegressor(max_features='log2', criterion='friedman_mse')\n",
    "xgb = XGBRegressor(\n",
    "    colsample_bytree=0.7,enable_categorical=True,\n",
    "    gamma=0.0, learning_rate=0.5, max_depth=20, \n",
    "    min_child_weight=5,n_estimators=300,\n",
    "    n_jobs=5)"
   ]
  },
  {
   "cell_type": "markdown",
   "id": "00cab1ed",
   "metadata": {},
   "source": [
    "from sklearn.base import BaseEstimator, RegressorMixin\n",
    "class HybridRegressor(BaseEstimator, RegressorMixin):\n",
    "    def __init__(self, regressor1, regressor2, regressor3):\n",
    "        self.regressor1 = regressor1\n",
    "        self.regressor2 = regressor2\n",
    "        self.regressor3 = regressor3\n",
    "    \n",
    "    def fit(self, X, y):\n",
    "        # Fit the first regressor on the regular output\n",
    "        self.regressor1.fit(X, y)\n",
    "        # Fit the second regressor on the difference between predicted output and actual output\n",
    "        y_pred1 = self.regressor1.predict(X)\n",
    "        self.regressor2.fit(X, y - y_pred1)  # Fit on residuals from first regressor\n",
    "        # Fit the third regressor on the residuals from the second regressor\n",
    "        y_pred2 = self.regressor2.predict(X)\n",
    "        self.regressor3.fit(X, y - y_pred1 - y_pred2)  # Fit on residuals from second regressor\n",
    "        return self\n",
    "    \n",
    "    def predict(self, X):\n",
    "        # Predict using the first regressor\n",
    "        y_pred = self.regressor1.predict(X)\n",
    "        # Predict using the second regressor and add the predictions to the output of the first regressor\n",
    "        y_pred += self.regressor2.predict(X)\n",
    "        # Predict using the third regressor and add the predictions to the output of the first two regressors\n",
    "        return y_pred + self.regressor3.predict(X)\n",
    "    \n",
    "    def evaluate(self, X, y):\n",
    "        predictions = self.predict(X)\n",
    "        mse = mean_squared_error(y, predictions)\n",
    "        return mse\n"
   ]
  },
  {
   "cell_type": "markdown",
   "id": "c52923fc",
   "metadata": {},
   "source": [
    "hybrid = HybridRegressor(rf_classifier, xgb, DT)"
   ]
  },
  {
   "cell_type": "markdown",
   "id": "169bb8c6",
   "metadata": {},
   "source": [
    "model = hybrid\n",
    "model.fit(enc_trainX, trainY)\n",
    "\n",
    "predicte_delay = model.predict(enc_testX)\n",
    "\n",
    "preds = create_final_preds(predicte_delay)\n",
    "acutal = create_final_preds(testY.values)\n",
    "\n",
    "e = evaluate_preds(acutal, preds)"
   ]
  },
  {
   "cell_type": "markdown",
   "id": "8234c8ec",
   "metadata": {},
   "source": [
    "print(e)"
   ]
  },
  {
   "cell_type": "markdown",
   "id": "9a80b595",
   "metadata": {},
   "source": []
  },
  {
   "cell_type": "markdown",
   "id": "923f63d7",
   "metadata": {},
   "source": []
  },
  {
   "cell_type": "code",
   "execution_count": null,
   "id": "c45c6922",
   "metadata": {},
   "outputs": [],
   "source": []
  },
  {
   "cell_type": "markdown",
   "id": "19d60ab0",
   "metadata": {},
   "source": []
  },
  {
   "cell_type": "code",
   "execution_count": null,
   "id": "eb7cce5a",
   "metadata": {},
   "outputs": [],
   "source": []
  },
  {
   "cell_type": "code",
   "execution_count": null,
   "id": "d2aa5f7b",
   "metadata": {},
   "outputs": [],
   "source": []
  },
  {
   "cell_type": "code",
   "execution_count": null,
   "id": "b4845ce1",
   "metadata": {},
   "outputs": [],
   "source": []
  },
  {
   "cell_type": "code",
   "execution_count": null,
   "id": "de7072ce",
   "metadata": {},
   "outputs": [],
   "source": []
  },
  {
   "cell_type": "code",
   "execution_count": null,
   "id": "7855d64f",
   "metadata": {},
   "outputs": [],
   "source": []
  },
  {
   "cell_type": "code",
   "execution_count": null,
   "id": "29eb41cb",
   "metadata": {},
   "outputs": [],
   "source": []
  },
  {
   "cell_type": "code",
   "execution_count": null,
   "id": "a9c9ac6b",
   "metadata": {},
   "outputs": [],
   "source": []
  },
  {
   "cell_type": "code",
   "execution_count": null,
   "id": "a4080b5b",
   "metadata": {},
   "outputs": [],
   "source": []
  },
  {
   "cell_type": "code",
   "execution_count": null,
   "id": "67f71cd4",
   "metadata": {},
   "outputs": [],
   "source": []
  },
  {
   "cell_type": "code",
   "execution_count": null,
   "id": "8dff2260",
   "metadata": {},
   "outputs": [],
   "source": []
  },
  {
   "cell_type": "code",
   "execution_count": null,
   "id": "da4fbb76",
   "metadata": {},
   "outputs": [],
   "source": []
  },
  {
   "cell_type": "code",
   "execution_count": null,
   "id": "827312d1",
   "metadata": {},
   "outputs": [],
   "source": []
  },
  {
   "cell_type": "code",
   "execution_count": null,
   "id": "1eaa31f6",
   "metadata": {},
   "outputs": [],
   "source": []
  },
  {
   "cell_type": "code",
   "execution_count": null,
   "id": "ccdc5d4e",
   "metadata": {},
   "outputs": [],
   "source": []
  },
  {
   "cell_type": "code",
   "execution_count": null,
   "id": "8dbc8cb6",
   "metadata": {},
   "outputs": [],
   "source": []
  },
  {
   "cell_type": "code",
   "execution_count": null,
   "id": "3c84a35d",
   "metadata": {},
   "outputs": [],
   "source": []
  },
  {
   "cell_type": "code",
   "execution_count": null,
   "id": "c8daf0f1",
   "metadata": {},
   "outputs": [],
   "source": []
  },
  {
   "cell_type": "code",
   "execution_count": null,
   "id": "0f53409f",
   "metadata": {},
   "outputs": [],
   "source": []
  },
  {
   "cell_type": "code",
   "execution_count": null,
   "id": "fd793bb8",
   "metadata": {},
   "outputs": [],
   "source": []
  },
  {
   "cell_type": "code",
   "execution_count": null,
   "id": "b40c45c3",
   "metadata": {},
   "outputs": [],
   "source": []
  },
  {
   "cell_type": "code",
   "execution_count": null,
   "id": "4d818f96",
   "metadata": {},
   "outputs": [],
   "source": []
  }
 ],
 "metadata": {
  "kernelspec": {
   "display_name": "Python 3 (ipykernel)",
   "language": "python",
   "name": "python3"
  },
  "language_info": {
   "codemirror_mode": {
    "name": "ipython",
    "version": 3
   },
   "file_extension": ".py",
   "mimetype": "text/x-python",
   "name": "python",
   "nbconvert_exporter": "python",
   "pygments_lexer": "ipython3",
   "version": "3.9.18"
  }
 },
 "nbformat": 4,
 "nbformat_minor": 5
}
